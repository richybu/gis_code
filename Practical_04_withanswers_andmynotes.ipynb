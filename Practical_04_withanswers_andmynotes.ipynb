{
  "nbformat": 4,
  "nbformat_minor": 0,
  "metadata": {
    "kernelspec": {
      "display_name": "Python 3",
      "language": "python",
      "name": "python3"
    },
    "language_info": {
      "codemirror_mode": {
        "name": "ipython",
        "version": 3
      },
      "file_extension": ".py",
      "mimetype": "text/x-python",
      "name": "python",
      "nbconvert_exporter": "python",
      "pygments_lexer": "ipython3",
      "version": "3.7.8"
    },
    "colab": {
      "name": "Practical-04-withanswers-andmynotes.ipynb",
      "provenance": [],
      "collapsed_sections": [],
      "include_colab_link": true
    }
  },
  "cells": [
    {
      "cell_type": "markdown",
      "metadata": {
        "id": "view-in-github",
        "colab_type": "text"
      },
      "source": [
        "<a href=\"https://colab.research.google.com/github/richybu/gis_code/blob/main/Practical_04_withanswers_andmynotes.ipynb\" target=\"_parent\"><img src=\"https://colab.research.google.com/assets/colab-badge.svg\" alt=\"Open In Colab\"/></a>"
      ]
    },
    {
      "cell_type": "markdown",
      "metadata": {
        "id": "ShGAFBNs1CFF"
      },
      "source": [
        "<div style=\"float:left\">\n",
        "    <h1 style=\"width:450px\">Practical 4: Object-Oriented Programming</h1>\n",
        "    <h2 style=\"width:450px\">Getting to grips with Functions &amp; Packages</h2>\n",
        "</div>\n",
        "<div style=\"float:right\"><img width=\"100\" src=\"https://github.com/jreades/i2p/raw/master/img/casa_logo.jpg\" /></div>"
      ]
    },
    {
      "cell_type": "markdown",
      "metadata": {
        "id": "sHQ2RHko1CFH"
      },
      "source": [
        "<div style=\"border: dotted 1px rgb(156,121,26); padding: 10px; margin: 5px; background-color: rgb(255,236,184); color: rgb(156,121,26)\"><i>Note</i>: You should download this notebook from GitHub and then save it to your own copy of the repository. I'd suggest adding it (<tt>git add ...</tt>) right away and then committing (<tt>git commit -m \"Some message\"</tt>). Do this again at the end of the class and you'll have a record of everything you did, then you can <tt>git push</tt> it to GitHub.</div>"
      ]
    },
    {
      "cell_type": "markdown",
      "metadata": {
        "id": "u855kjoG1CFH"
      },
      "source": [
        "## Revisiting Task 4. Why 'Obvious' is Not Always 'Right'\n",
        "\n",
        "Task 4 in Practical 3 is hard, especially coming at the end of an already challenging practical. So I want to provide _another_ chance for the concepts to bed in before we use them as part of our exploratory work with the InsideAirbnb sample.\n",
        "\n",
        "##### A Dictionary of Lists to the Rescue\n",
        "\n",
        "Remember, if we don't really care about column order (and why would we, on one level?), then a dictionary of lists would be a nice way to handle things. And why should we care about column order? With our CSV files above we already saw what a pain it was to fix things when the layout of the columns changed from one data set to the next. If, instead, we can just reference the 'Description' column in the data set then it doesn't matter where that column actually is. Why is that? \n",
        "\n",
        "Well, here are four rows of 'data' for city sizes organised by _row_:"
      ]
    },
    {
      "cell_type": "code",
      "metadata": {
        "colab": {
          "base_uri": "https://localhost:8080/"
        },
        "id": "Rs083cG31CFI",
        "outputId": "3faf05e5-44be-4f4a-d74a-c3deb468f8ae"
      },
      "source": [
        "myData = [\n",
        "    ['id', 'Name', 'Rank', 'Longitude', 'Latitude', 'Population'], \n",
        "    ['1', 'Greater London', '1', '-18162.92767', '6711153.709', '9787426'], \n",
        "    ['2', 'Greater Manchester', '2', '-251761.802', '7073067.458', '2553379'], \n",
        "    ['3', 'West Midlands', '3', '-210635.2396', '6878950.083', '2440986']\n",
        "]\n",
        "# each list is a row\n",
        "# What cities are in the data set?\n",
        "col = myData[0].index('Name')   # myData[0] summons the first list in the list of lists, .index('Name') then gives the index of the value 'Name' in that list, so col is given a value of 1\n",
        "cities = []   #creates a new empty list\n",
        "for i in range(1,len(myData)):    # runs though the items in the myData list, skipping the first line\n",
        "    cities.append(myData[i][col])   #adding itmes to the new empty list, each item is Mydata[i][1] i.e. the city names\n",
        "print(cities)\n",
        "print(\", \".join(cities))    # cahnges the list from its existing format to being just joined by commas i.e. \",\"\n"
      ],
      "execution_count": null,
      "outputs": [
        {
          "output_type": "stream",
          "name": "stdout",
          "text": [
            "['Greater London', 'Greater Manchester', 'West Midlands']\n",
            "Greater London, Greater Manchester, West Midlands\n"
          ]
        }
      ]
    },
    {
      "cell_type": "markdown",
      "metadata": {
        "id": "Jw-L8cwz1CFJ"
      },
      "source": [
        "Compare that code to how it works as a dictionary of lists organised by _column_:"
      ]
    },
    {
      "cell_type": "code",
      "metadata": {
        "colab": {
          "base_uri": "https://localhost:8080/"
        },
        "id": "Sga4vleY1CFJ",
        "outputId": "4a0ffc81-41fc-4a10-95d5-ad5e6bf256e8"
      },
      "source": [
        "myData = {\n",
        "    'id'         : [0, 1, 2, 3, 4, 5],\n",
        "    'Name'       : ['Greater London', 'Greater Manchester', 'Birmingham','Edinburgh','Inverness','Lerwick'],\n",
        "    'Rank'       : [1, 2, 3, 4, 5, 6],\n",
        "    'Longitude'  : [-0.128, -2.245, -1.903, -3.189, -4.223, -1.145],\n",
        "    'Latitude'   : [51.507, 53.479, 52.480, 55.953, 57.478, 60.155],\n",
        "    'Population' : [9787426, 2705000, 1141816, 901455, 70000, 6958],\n",
        "}\n",
        "# each key is the column name, then value which is a list is the data in the column\n",
        "# What cities are in the data set?\n",
        "print(\", \".join(myData['Name']))\n",
        "# so DoLs are much easier to pull from, plus it doesnt matter the order, you can jsut refer to 'Name'"
      ],
      "execution_count": null,
      "outputs": [
        {
          "output_type": "stream",
          "name": "stdout",
          "text": [
            "Greater London, Greater Manchester, Birmingham, Edinburgh, Inverness, Lerwick\n"
          ]
        }
      ]
    },
    {
      "cell_type": "markdown",
      "metadata": {
        "id": "Ojhen06m1CFJ"
      },
      "source": [
        "**See how even basic questions like \"Is Edinburgh in our list of data?\" are suddenly easy to answer?** <br> We no longer need to loop over the entire data set in order to find one data point. In addition, we know that everything in the 'Name' column will be a string, and that everything in the 'Longitude' column is a float, while the 'Population' column contains integers. So that's made life easier already. But let's test this out and see how it works."
      ]
    },
    {
      "cell_type": "markdown",
      "metadata": {
        "id": "i8kL79v61CFJ"
      },
      "source": [
        "Now let's look at what you can do with this... but first we need to import one _more_ package that you're going to see a _lot_ over the rest of term: `numpy` (Numerical Python), which is used _so_ much that most people simply refer to it as `np`. This is a _huge_ package in terms of features, but right now we're interested only in the basic arithmatic functions: `mean`, `max`, and `min`."
      ]
    },
    {
      "cell_type": "markdown",
      "metadata": {
        "id": "9R7IyJRQ1CFJ"
      },
      "source": [
        "There's a _lot_ of content to process in the code below, so do _not_ rush blindly on if it is confusing. \n",
        "\n",
        "<div style=\"border: dotted 1px rgb(156,121,26); padding: 10px; margin: 5px; background-color: rgb(255,236,184)\"><i>Stop!</i>: Look closely at what is going on. Try pulling it apart into pieces and then reassembling it. Start with the bits that you understand and then <i>add</i> complexity.</div>\n",
        "\n",
        "We'll go through each one in turn, but they nearly all work in the same way and the really key thing is that you'll notice that we no longer have any loops (which are slow) just `index` or `np.<function>` (which is _very_ fast). "
      ]
    },
    {
      "cell_type": "markdown",
      "metadata": {
        "id": "a-eJS0Yy1CFK"
      },
      "source": [
        "#### The Population of Manchester\n",
        "\n",
        "The code can look pretty daunting, so let's break it down into parts:"
      ]
    },
    {
      "cell_type": "code",
      "metadata": {
        "colab": {
          "base_uri": "https://localhost:8080/"
        },
        "id": "Lrlcj2mm1CFK",
        "outputId": "8c9eeef5-ce68-40a3-91bc-ed99847adf16"
      },
      "source": [
        "myData = {\n",
        "    'id'         : [0, 1, 2, 3, 4, 5],\n",
        "    'Name'       : ['Greater London', 'Greater Manchester', 'Birmingham','Edinburgh','Inverness','Lerwick'],\n",
        "    'Rank'       : [1, 2, 3, 4, 5, 6],\n",
        "    'Longitude'  : [-0.128, -2.245, -1.903, -3.189, -4.223, -1.145],\n",
        "    'Latitude'   : [51.507, 53.479, 52.480, 55.953, 57.478, 60.155],\n",
        "    'Population' : [9787426, 2705000, 1141816, 901455, 70000, 6958],\n",
        "}\n",
        "\n",
        "city = 'Greater Manchester'\n",
        "pop = myData['Population'][myData['Name'].index(city)]\n",
        "print(f\"Manchester's population is {pop}\") # Notice how 'f-strings' work!\n",
        "# this is the same as the whats in the answers but i get an error for some reason"
      ],
      "execution_count": null,
      "outputs": [
        {
          "output_type": "stream",
          "name": "stdout",
          "text": [
            "Manchester's population is 2705000\n"
          ]
        }
      ]
    },
    {
      "cell_type": "markdown",
      "metadata": {
        "id": "HYDcdadp1CFK"
      },
      "source": [
        "Remember that this is a dictionary-of-lists (DoL). So:\n",
        "```python\n",
        "myData['Population']    # Returns a list of population values\n",
        "myData['Population'][0] # Returns the first element of that list\n",
        "```\n",
        "Does **that part** make sense?\n",
        "\n",
        "---\n",
        "\n",
        "Now, to the second part, we know that Manchester is at index position 1 in the list, but we don't want to hard-code this for every city, so we need to replace `0` with code that will look up the index of a city, and we can only get that my looking in `myData['Name']`:\n",
        "```python\n",
        "myData['Name'].index('Manchester')\n",
        "```\n",
        "\n",
        "Here we look in the dictionary for the key `Name` and find that that's _also_ a list (`['London','Manchester',...]`). All we're doing here is ask Python to find the index of 'Manchester' for us in that list. \n",
        "\n",
        "And `myData['Name'].index('Manchester')` gives us back a `1`, so _instead_ of just writing in a `1` into `myData['Population'][1]` we can replace `1` with `myData['Name'].index('Manchester')`! Notice the complete _absence_ of a for loop?"
      ]
    },
    {
      "cell_type": "markdown",
      "metadata": {
        "id": "o65n_0HA1CFK"
      },
      "source": [
        "#### The Easternmost City\n",
        "\n",
        "Because we are dealing with numeric values now we can also do useful things much more quickly like finding the first part of, say, a _bounding box_ (the East value)."
      ]
    },
    {
      "cell_type": "code",
      "metadata": {
        "colab": {
          "base_uri": "https://localhost:8080/"
        },
        "id": "qqixnyLN1CFK",
        "outputId": "78ea75d3-f7ca-431f-958b-6b3fccdbb25c"
      },
      "source": [
        "city = myData['Name'][ myData['Longitude'].index( max(myData['Longitude']) ) ]\n",
        "# going into the longitude list, finding the index of the max longitude, then using this index in the Names list to fin the name with the corresponding value\n",
        "print(f\"The easternmost city is: {city}\")"
      ],
      "execution_count": null,
      "outputs": [
        {
          "output_type": "stream",
          "name": "stdout",
          "text": [
            "The easternmost city is: Greater London\n"
          ]
        }
      ]
    },
    {
      "cell_type": "markdown",
      "metadata": {
        "id": "fbZWgHs71CFK"
      },
      "source": [
        "Again, we need to break this down into parts in order to understand it:\n",
        "1. We need to find the maximum _value_ of the longitude in the data set.\n",
        "2. We need to find the _index_ of this value.\n",
        "3. We use that index value to look up the name of the city.\n",
        "\n",
        "So, the pieces in code... \n",
        "```python\n",
        "myData['Longitude']      # The longitude data values\n",
        "myData['Longitude'][0]   # The first element of the list\n",
        "max(myData['Longitude']) # The maximum value in the list\n",
        "myData['Longitude'].index(...) # Search for a value in the list\n",
        "```\n",
        "Does **that part** make sense?\n",
        "\n",
        "---\n",
        "We can then think our way through this as we might with a maths equation and substitution:\n",
        "```python\n",
        "myData['Longitude'].index( max(myData['Longitude']) ) # The index of the maximum value of the list\n",
        "myData['Name'][0] # The first element in the city list\n",
        "\n",
        "# You can use whitespace to make this more legible\n",
        "myData['Name'][\n",
        "    myData['Longitude'].index( \n",
        "        max(myData['Longitude']) \n",
        "    )\n",
        "]\n",
        "\n",
        "# Or, once you're more comfortable with code:\n",
        "city = myData['Name'][ myData['Longitude'].index( max(myData['Longitude']) ) ]\n",
        "```\n",
        "Does **that part** make sense?\n",
        "\n",
        "---\n",
        "\n",
        "So to explain this in three steps, what we're doing is:\n",
        "* Finding the maximum value in the Longitude column (we know there must be one, but we don't know what it is!),\n",
        "* Finding the index (position) of that maximum value in the Longitude column (now that we know what the value is!),\n",
        "* Using that index to read a value out of the Name column.\n",
        "\n",
        "I _am_ a geek, but that's pretty cool, right? In one line of code we managed to quickly find out where the data we needed was even though it involved three discrete steps. Think about how much work you'd have to do if you were still thinking in _rows_, not _columns_!"
      ]
    },
    {
      "cell_type": "markdown",
      "metadata": {
        "id": "D9lAf6yO1CFL"
      },
      "source": [
        "#### The Location of Lerwick\n",
        "\n",
        "This is 'just' variations on a theme since we're still using the same concepts of `index` and lists, what makes it hard is that there looks to be a _lot_ of code on one line:"
      ]
    },
    {
      "cell_type": "code",
      "metadata": {
        "id": "xCFf7xqv1CFL"
      },
      "source": [
        "city = \"Lerwick\"\n",
        "print(f\"The town of {city} can be found at \" + \n",
        "      f\"{abs(myData['Longitude'][myData['Name'].index(city)])}ºW, {myData['Latitude'][myData['Name'].index(city)]}ºN\")"
      ],
      "execution_count": null,
      "outputs": []
    },
    {
      "cell_type": "markdown",
      "metadata": {
        "id": "r00euRVz1CFL"
      },
      "source": [
        "But always remember that you can rewrite this using whitespace and concatentation to make it easier for a human to read:"
      ]
    },
    {
      "cell_type": "code",
      "metadata": {
        "colab": {
          "base_uri": "https://localhost:8080/"
        },
        "id": "u4fu0VZK1CFL",
        "outputId": "3c4b0696-f638-48eb-b53b-cdf9a1f4e5a7"
      },
      "source": [
        "myData = {\n",
        "    'id'         : [0, 1, 2, 3, 4, 5],\n",
        "    'Name'       : ['Greater London', 'Greater Manchester', 'Birmingham','Edinburgh','Inverness','Lerwick'],\n",
        "    'Rank'       : [1, 2, 3, 4, 5, 6],\n",
        "    'Longitude'  : [-0.128, -2.245, -1.903, -3.189, -4.223, -1.145],\n",
        "    'Latitude'   : [51.507, 53.479, 52.480, 55.953, 57.478, 60.155],\n",
        "    'Population' : [9787426, 2705000, 1141816, 901455, 70000, 6958],\n",
        "}\n",
        "city = \"Lerwick\"\n",
        "print(f\"The town of {city} can be found at \" + \n",
        "      f\"{abs(myData['Longitude'][myData['Name'].index(city)])}ºW, \" +\n",
        "      f\"{myData['Latitude'][myData['Name'].index(city)]}ºN\")"
      ],
      "execution_count": null,
      "outputs": [
        {
          "output_type": "stream",
          "name": "stdout",
          "text": [
            "The town of Lerwick can be found at 1.145ºW, 60.155ºN\n"
          ]
        }
      ]
    },
    {
      "cell_type": "markdown",
      "metadata": {
        "id": "NToAHORp1CFL"
      },
      "source": [
        "Or, you could even work it out this way first and _then_ combine the code as above:"
      ]
    },
    {
      "cell_type": "code",
      "metadata": {
        "colab": {
          "base_uri": "https://localhost:8080/"
        },
        "id": "HNbcsTvV1CFM",
        "outputId": "3e82f192-b9d1-435b-e3a3-6145dbb861e6"
      },
      "source": [
        "city = \"Lerwick\"\n",
        "lat  = abs(\n",
        "    myData['Longitude'][\n",
        "        myData['Name'].index(city)\n",
        "    ]\n",
        ")\n",
        "lon  = myData['Latitude'][\n",
        "    myData['Name'].index(city)\n",
        "]\n",
        "\n",
        "print(f\"The town of {city} can be found at \" + \n",
        "      f\"{lat}ºW, \" +\n",
        "      f\"{lon}ºN\")"
      ],
      "execution_count": null,
      "outputs": [
        {
          "output_type": "stream",
          "name": "stdout",
          "text": [
            "The town of Lerwick can be found at 1.145ºW, 60.155ºN\n"
          ]
        }
      ]
    },
    {
      "cell_type": "markdown",
      "metadata": {
        "id": "84BbzCE81CFM"
      },
      "source": [
        "Notice that have a `+` at the *end of the line* tells Python that it should carry on reading to the next line as part of the same command. That's a handy way to make your code a little easier to read! Same goes withg formatting a list: if it's getting a little long then you can *also* continue a line using a `,`!\n",
        "\n",
        "##### Recap of f-Strings\n",
        "\n",
        "In case you're rusty on how f-strings (`f\"<some text here>\"`) work, the first one will help you to make sense of the second: f-strings allow you to 'interpolate' code directly into a string rather than having to have lots of `str(x) + \" some text \" + str(y)`. You can write `f\"{x} some text {y}\"` and Python will automatically replace `{x}` with the _value of `x`_ and `{y}` with the _value of `y`_. \n",
        "\n",
        "So `f\"The town of {city} can be found at \"` becomes `f\"The town of Lerwick can be found at \"` because `{city}` is replaced by the value of the variable `city`. This makes for code that is easier for humans to read and so I'd consider that a good thing.\n",
        "\n",
        "##### Breaking it Down (Again)\n",
        "\n",
        "The second f-string _looks_ hard because there's a _lot_ of code there. But, again, if we start with what we recognise that it gets just a little bit more manageable... Also, it stands to reason that the only difference between the two outputs is that one asks for the 'Longitude' and the other for the 'Latitude'. So if you can make sense of one you have _automatically_ made sense of the other and don't need to work it all out.\n",
        "\n",
        "Let's start with a part that you might recognise:\n",
        "```python\n",
        "myData['Name'].index(city)\n",
        "```\n",
        "Does **that part** make sense?\n",
        "\n",
        "---\n",
        "\n",
        "You've _got_ this. This is just asking Python to work out the index of Lerwick (because `city = 'Lerwick'`). So it's a number. 5 in this case. And we can then think, 'OK so what does this return:\n",
        "```python \n",
        "myData['Longitude'][5]\n",
        "```\n",
        "And the answer is `-1.145`. That's the Longitude of Lerwick! There's just _one_ last thing: notice that we're talking about degrees West here. So the answer isn't a negative (because negative West degrees would be _East_!), it's the _absolute_ value. And that is the final piece of the puzzle: `abs(...)` gives us the absolute value of a number!\n",
        "\n",
        "Does **that part** make sense?\n",
        "\n",
        "---\n",
        "\n",
        "You could have [found `abs` yourself using Google](https://lmgtfy.app/?q=absolute+value+python)."
      ]
    },
    {
      "cell_type": "markdown",
      "metadata": {
        "id": "UwV29XIu1CFM"
      },
      "source": [
        "#### The Average City Size\n",
        "\n",
        "Here we're going to 'cheat' a little bit: rather than writing our own function, we're going to import a package and use someone _else's_ function. The `numpy` package contains a _lot_ of useful functions that we can call on (if you don't believe me, add \"`dir(np)`\" on a new line after the `import` statement), and one of them calculates the average of a list or array of data."
      ]
    },
    {
      "cell_type": "code",
      "metadata": {
        "colab": {
          "base_uri": "https://localhost:8080/"
        },
        "id": "qUIUnaob1CFM",
        "outputId": "ac952a0a-d4fe-4c4e-ac65-29c7aa9fd517"
      },
      "source": [
        "import numpy as np\n",
        "\n",
        "mean = np.mean(myData['Population']).   # uses the mean function in the np package on the list 'Population' in the dictionary MyData.\n",
        "print(f\"The mean population is: {mean}\")"
      ],
      "execution_count": null,
      "outputs": [
        {
          "output_type": "stream",
          "name": "stdout",
          "text": [
            "The mean population is: 2435442.5\n"
          ]
        }
      ]
    },
    {
      "cell_type": "markdown",
      "metadata": {
        "id": "g3EjsUhe1CFM"
      },
      "source": [
        "You _could_ also write this like:\n",
        "```python\n",
        "print(f\"The mean population is: {np.mean(myData['Population']}\")\n",
        "```\n",
        "There's no 'right' way here to write your code: putting it all on one line and not saving it to a temporary variable called 'mean' is slightly faster, but if you were going to use the mean to do other things (e.g. standardise the data) then it is a bit more clear what you're doing."
      ]
    },
    {
      "cell_type": "markdown",
      "metadata": {
        "id": "6qcShpOp1CFM"
      },
      "source": [
        "#### Standardising City Sizes\n",
        "\n",
        "To give you a sense of how scaleable this approach to data is, check out this neat little trick for working out z-scores for cities sizes:"
      ]
    },
    {
      "cell_type": "code",
      "metadata": {
        "colab": {
          "base_uri": "https://localhost:8080/"
        },
        "id": "LZwRHND41CFM",
        "outputId": "1a7cfeb8-d996-4256-a99a-26fe82bac19c"
      },
      "source": [
        "# Use numpy functions to calculate mean and standard deviation\n",
        "mean = np.mean(myData['Population'])\n",
        "std  = np.std(myData['Population'])\n",
        "print(f\"City distribution has sample mean {mean} and sample standard deviation of {std:7.2f}.\")   # tells it we want 7 numbers and 2 decimal places"
      ],
      "execution_count": null,
      "outputs": [
        {
          "output_type": "stream",
          "name": "stdout",
          "text": [
            "City distribution has sample mean 2435442.5 and sample standard deviation of 3406947.93.\n"
          ]
        }
      ]
    },
    {
      "cell_type": "markdown",
      "metadata": {
        "id": "UpAoEfNA1CFM"
      },
      "source": [
        "`numpy` gives us a way to calculate the mean and standard deviation _quickly_ and without having to reinvent the wheel. The other potentially new thing here is `{std:7.2f}`. This is about [string formatting](https://www.w3schools.com/python/ref_string_format.asp) and the main thing to recognise is that this means 'format this float with 7 digits to the left of the left of the decmial and 2 digits to the right'. The link I've provided uses the slightly older approach of `<str>.format()` but the formatting approach is the same.\n",
        "\n",
        "Does **that part** make sense?\n",
        "\n",
        "---\n",
        "\n",
        "Now we're going to see how the code `[x for x in list]` gives us a way to apply an operation (converting to string, subtracting a value, etc.) to every item in a list without writing out a full for loop. This basically gives us a one-line way to avoid writing:\n",
        "```python\n",
        "rs = []\n",
        "for x in myData['Population']:\n",
        "    rs.append((x-mean)/std)\n",
        "```\n",
        "So here code in the `for` loop is applied and the result automatically added to the output list."
      ]
    },
    {
      "cell_type": "code",
      "metadata": {
        "colab": {
          "base_uri": "https://localhost:8080/"
        },
        "id": "_7-Qn6BP1CFN",
        "outputId": "73bd8562-0202-491e-8ef6-a39d34076775"
      },
      "source": [
        "rs = [(x - mean)/std for x in myData['Population']].  # x is each of the Population values in my Data. so it does each population - (calcuation of mean)/(calculation of standard dev)\n",
        "myData['Std. Population'] = rs  #adds a new item to myData, the item being rs, the list we just created\n",
        "print(myData['Std. Population'])    # prints the new item we added to the list myData"
      ],
      "execution_count": null,
      "outputs": [
        {
          "output_type": "stream",
          "name": "stdout",
          "text": [
            "[2.1579383252868527, 0.0791199354729932, -0.3797024575689938, -0.45025269939207097, -0.6942995760276591, -0.7128035277711219]\n"
          ]
        }
      ]
    },
    {
      "cell_type": "markdown",
      "metadata": {
        "id": "S4TjHZjR1CFN"
      },
      "source": [
        "This should output:\n",
        "```\n",
        "[2.1579383252868527, 0.0791199354729932, -0.3797024575689938, -0.45025269939207097, -0.6942995760276591, -0.7128035277711219]\n",
        "```"
      ]
    },
    {
      "cell_type": "code",
      "metadata": {
        "colab": {
          "base_uri": "https://localhost:8080/"
        },
        "id": "JGuZ8E8S1CFN",
        "outputId": "97f3685a-cc7a-48ab-fd63-335a6a1ad3c6"
      },
      "source": [
        "print(\"City name: \" + \", \".join( myData['Name'] ))      # takes the Name list thats in the dictionary myData and turns it into the values separated by commas\n",
        "print(\"Raw population: \" + \", \".join( [str(x) for x in myData['Population']] ))     # prints out the population values, turned from a list into comma seaprated values\n",
        "print(\"Standardised population: \" + \", \".join( [f\"{x:4.3f}\" for x in myData['Std. Population']] ))    # prints the 'std. Population' list in the dictionary myData, each with 4 digits and 3 decimal places, and turns them into commma seaprated values"
      ],
      "execution_count": null,
      "outputs": [
        {
          "output_type": "stream",
          "name": "stdout",
          "text": [
            "City name: Greater London, Greater Manchester, Birmingham, Edinburgh, Inverness, Lerwick\n",
            "Raw population: 9787426, 2705000, 1141816, 901455, 70000, 6958\n",
            "Standardised population: 2.158, 0.079, -0.380, -0.450, -0.694, -0.713\n"
          ]
        }
      ]
    },
    {
      "cell_type": "markdown",
      "metadata": {
        "id": "D9ogOmnn1CFN"
      },
      "source": [
        "This is where our new approach really comes into its own: because all of the population data is in one place (a.k.a. a _series_ or column), we can just throw the whole list into the `np.mean` function rather than having to use all of those convoluted loops and counters. Simples, right? \n",
        "\n",
        "No, not _simple_ at all conceptually, but we've come up with a way to _make_ it simple _as code_."
      ]
    },
    {
      "cell_type": "markdown",
      "metadata": {
        "id": "A1piwkka1CFN"
      },
      "source": [
        "#### Brain Teaser\n",
        "\n",
        "Why not have a stab at writing the code to print out the _4th most populous_ city? This can _still_ be done on one line, though you might want to start by breaking the problem down:\n",
        "1. How do I find the _4th_ largest value in a list?\n",
        "2. How do I find the _index_ of the 4th largest value in a list?\n",
        "3. How do I use that to look up the name associated with that index?\n",
        "\n",
        "You've already done \\#2 and \\#3 above so you've _solved_ that problem. If you can solve \\#1 then the rest should fall into place.\n",
        "\n",
        "<div style=\"border: dotted 1px green; padding: 10px; margin: 5px; background-color: rgb(249,255,249);\"><i>Hint</i>: you don't want to use <tt>&lt;list&gt;.sort()</tt> because that will sort your data <i>in place</i> and break the link between the indexes across the 'columns'; you want to research the function <tt>sorted(&lt;list&gt;)</tt> where <tt>&lt;list&gt;</tt> is the variable that holds your data and `sorted(...)` just returns whatever you pass it in a sorted order <i>without</i> changing the original list. You'll see why this matters if you get the answer... otherwise, wait a few days for the answers to post.</div>"
      ]
    },
    {
      "cell_type": "code",
      "metadata": {
        "id": "kk95xoLh1CFN"
      },
      "source": [
        "sorted(myData['Population'], reverse=True)"
      ],
      "execution_count": null,
      "outputs": []
    },
    {
      "cell_type": "code",
      "metadata": {
        "colab": {
          "base_uri": "https://localhost:8080/"
        },
        "id": "VfxvlBhu1CFN",
        "outputId": "4e1f6026-81d3-4b41-f7eb-fefafb8ebead"
      },
      "source": [
        "# Print out the name of the 4th most populous city-region\n",
        "\n",
        "# Find the fourth largest value\n",
        "fourth = sorted(myData['Population'], reverse=True)[3]\n",
        "print(fourth)\n",
        "\n",
        "# Find the index of the fourth largest value\n",
        "idx = myData['Population'].index(fourth) #finds the index of the value we found above, but in the non sorted list\n",
        "print(idx)\n",
        "\n",
        "# Find the city associated with that value\n",
        "city = myData['Name'][idx]\n",
        "\n",
        "# And output\n",
        "print(\"The fourth most populous city is: \" + str(city))"
      ],
      "execution_count": null,
      "outputs": [
        {
          "output_type": "stream",
          "name": "stdout",
          "text": [
            "901455\n",
            "3\n",
            "The fourth most populous city is: Edinburgh\n"
          ]
        }
      ]
    },
    {
      "cell_type": "markdown",
      "metadata": {
        "id": "zil1TmOu1CFN"
      },
      "source": [
        "The answer is Edinburgh."
      ]
    },
    {
      "cell_type": "markdown",
      "metadata": {
        "id": "-UngKoRX1CFN"
      },
      "source": [
        "#### Recap!\n",
        "\n",
        "So the _really_ clever bit in all of this isn't switching from a list-of-lists to a dictionary-of-lists, it's recognising that the dictionary-of-lists is a _better_ way to work _with_ the data that we're trying to analyse and that that there are useful functions that we can exploit to do the heavy lifting for us. Simply by changing the way that we stored the data in a 'data structure' (i.e. complex arrangement of lists, dictionaries, and variables) we were able to do away with lots of for loops and counters and conditions, and reduce many difficult operations to something that could be done on one line! "
      ]
    },
    {
      "cell_type": "markdown",
      "metadata": {
        "id": "HVrmNErn1CFO"
      },
      "source": [
        "## Task 1. Creating a Set of Functions"
      ]
    },
    {
      "cell_type": "markdown",
      "metadata": {
        "id": "b-tSkt661CFO"
      },
      "source": [
        "Let's start trying to put this all together by creating a a set of functions that will help us to:\n",
        "\n",
        "1. Download a file from a URL (checking if it has already _been_ downloaded to save bandwidth).\n",
        "2. Parse it as a CSV file and...\n",
        "3. Convert it to a Dictionary-of-Lists\n",
        "4.Perform some simple calculations using the resulting data.\n",
        "\n",
        "To be honest, there's not going to be much about writing our _own_ objects here, but we will be making use of them and, conceptually, an understanding of objects and classes is going to be super-useful for understanding what we're doing in the remainder of the term!"
      ]
    },
    {
      "cell_type": "markdown",
      "metadata": {
        "id": "esi1jcuV1CFO"
      },
      "source": [
        "#### Task 1.1: Start from Existing Code\n",
        "\n",
        "First, let's be sensibly lazy--we've already written code to read a file ([2020-08-24-sample-listings.csv](https://raw.githubusercontent.com/jreades/fsds/master/data/2020-08-24-sample-listings-simple.csv)) from the Internet and turn it into a list of lists. So I've copy+pasted that into the code block below since we're going to start from this point; however, just to help you check your own understanding, I've removed a few bits and replacement with `??`. Sorry. 😈"
      ]
    },
    {
      "cell_type": "code",
      "metadata": {
        "colab": {
          "base_uri": "https://localhost:8080/"
        },
        "id": "EzLz9-7A1CFP",
        "outputId": "1e7a27f9-6b41-409c-bb46-4a11e9067443"
      },
      "source": [
        "# this is for passing a url into a variable, using a LoL, not DoL\n",
        "\n",
        "from urllib.request import urlopen\n",
        "import csv\n",
        "\n",
        "url = \"https://raw.githubusercontent.com/jreades/fsds/master/data/2020-08-24-sample-listings-simple.csv\"\n",
        "\n",
        "urlData = [] # empty list to put our data a into\n",
        "\n",
        "response = urlopen(url) # Get the data using the urlopen function\n",
        "csvfile  = csv.reader(response.read().decode('utf-8').splitlines()) # Pass it over to the reader\n",
        "\n",
        "for row in csvfile:\n",
        "    urlData.append(row) # move each row in csvfile into our empty list\n",
        "\n",
        "print(\"urlData has \" + str(len(urlData)) + \" rows and \" + str(len(urlData[0])) + \" columns.\") # the first row contains all the coulumn names\n",
        "print(urlData[-1][:2]) # check it worked. -1 goes to the last row before the end, :2 gets all the list values till index 2"
      ],
      "execution_count": null,
      "outputs": [
        {
          "output_type": "stream",
          "name": "stdout",
          "text": [
            "urlData has 101 rows and 19 columns.\n",
            "['40373464', 'Modern, Small Double Private Room']\n"
          ]
        }
      ]
    },
    {
      "cell_type": "markdown",
      "metadata": {
        "id": "ViynJgEq1CFP"
      },
      "source": [
        "You should get `urlData has 101 rows and 19 columns.` and a row that looks like this: `['40373464', 'Modern, Small Double Private Room']`."
      ]
    },
    {
      "cell_type": "markdown",
      "metadata": {
        "id": "aX7ctYmD1CFP"
      },
      "source": [
        "#### Task 1.2: Getting Organised\n",
        "\n",
        "Let's take the code above and modify it so that it is:\n",
        "\n",
        "1. A function that takes two arguments: a URL; and a destination filename.\n",
        "2. Implemented as a function that checks if a file exists already before downloading it again.\n",
        "\n",
        "You will find that the `os` module helps here because of the `path` function. And you will [need to Google](https://lmgtfy.app/?q=check+if+file+exists+python) how to test if a file exists. I would normally select a StackOverflow link in the results list over anything else because there will normally be an _explanation_ included of why a particular answer is a 'good one'. I also look at which answers got the most votes (not always the same as the one that was the 'accepted answer'). In this particular case, I also found [this answer](https://careerkarma.com/blog/python-check-if-file-exists/) useful.\n",
        "\n",
        "--- \n",
        "\n",
        "I would start by setting my inputs:"
      ]
    },
    {
      "cell_type": "code",
      "metadata": {
        "id": "K6osuXDC1CFP",
        "colab": {
          "base_uri": "https://localhost:8080/"
        },
        "outputId": "a18dcd09-6d6b-41e2-cce4-b2b33522bce6"
      },
      "source": [
        "import os\n",
        "url = \"https://raw.githubusercontent.com/jreades/fsds/master/data/2020-08-24-sample-listings-simple.csv\"\n",
        "out = os.path.join('data','2020-08-24-sample-listings.csv')     # a different fuction to the one used in print(\", \".join(myData['Name'])) function. result is data/2020-08-24-sample-listings.csv\n",
        "print(out)"
      ],
      "execution_count": 5,
      "outputs": [
        {
          "output_type": "stream",
          "name": "stdout",
          "text": [
            "data/2020-08-24-sample-listings.csv\n"
          ]
        }
      ]
    },
    {
      "cell_type": "markdown",
      "metadata": {
        "id": "2rPiZ5wl1CFP"
      },
      "source": [
        "#### Task 1.3: Sketching Out a Function\n",
        "\n",
        "Then I would sketch out how my function will work using comments. And the simplest thing to start with is checking whether the file has already been downloaded:"
      ]
    },
    {
      "cell_type": "code",
      "metadata": {
        "colab": {
          "base_uri": "https://localhost:8080/"
        },
        "id": "ziIiQ9Fp1CFP",
        "outputId": "5b1d64cb-9ee0-464f-8859-acab2998cbd7"
      },
      "source": [
        "from urllib.request import urlopen\n",
        "import csv\n",
        "\n",
        "def get_url(src, dest):     # src used in next bit of the lecture, so can ignore for now. src is source of data you want to downlaoad. desit is the filepath you want to download it to\n",
        "    \n",
        "    # Check if dest does *not* exist -- that\n",
        "    # would mean we had to download it!\n",
        "    if not os.path.isfile(dest):    # os.path.isfile() checks if the file exists at the filepath you set to be out  \n",
        "        print(f\"{dest} not found!\")\n",
        "    else:\n",
        "        print(f\"Found {dest}!\")\n",
        "        \n",
        "get_url(url, out)\n"
      ],
      "execution_count": 4,
      "outputs": [
        {
          "output_type": "stream",
          "name": "stdout",
          "text": [
            "data/2020-08-24-sample-listings.csv not found!\n",
            "data/2020-08-24-sample-listings.csv\n"
          ]
        }
      ]
    },
    {
      "cell_type": "code",
      "metadata": {
        "colab": {
          "base_uri": "https://localhost:8080/"
        },
        "id": "tX_iE2Xll5-z",
        "outputId": "57a15022-cbfb-4cf4-f9a6-14f743b633ea"
      },
      "source": [
        "import os\n",
        "help(os.path.split)"
      ],
      "execution_count": null,
      "outputs": [
        {
          "output_type": "stream",
          "name": "stdout",
          "text": [
            "Help on function split in module posixpath:\n",
            "\n",
            "split(p)\n",
            "    Split a pathname.  Returns tuple \"(head, tail)\" where \"tail\" is\n",
            "    everything after the final slash.  Either part may be empty.\n",
            "\n"
          ]
        }
      ]
    },
    {
      "cell_type": "markdown",
      "metadata": {
        "id": "hBY8L92D1CFP"
      },
      "source": [
        "#### Task 1.4: Fleshing Out a Function \n",
        "\n",
        "I would then flesh out the code that checks if the data has been downloaded and ensure that both my if and else 'branches' return a list that I could then read using the CSV library:"
      ]
    },
    {
      "cell_type": "code",
      "metadata": {
        "colab": {
          "base_uri": "https://localhost:8080/"
        },
        "id": "dILXh6FN1CFP",
        "outputId": "2b3ba65a-3f0f-4558-8de8-26940332077f"
      },
      "source": [
        "import os\n",
        "url = \"https://raw.githubusercontent.com/jreades/fsds/master/data/2020-08-24-sample-listings-simple.csv\"\n",
        "out = os.path.join('data','2020-08-24-sample-listings.csv')     # makes the file from the above url data separated rather than comma separated \n",
        "\n",
        "\n",
        "from urllib.request import urlopen\n",
        "import csv\n",
        "import os\n",
        "\n",
        "def get_url(src, dest):\n",
        "    \n",
        "    # Check if dest does *not* exist -- that\n",
        "    # would mean we had to download it!\n",
        "    if not os.path.isfile(dest):\n",
        "        print(f\"{dest} not found, downloading!\")\n",
        "        \n",
        "        # Get the data using the urlopen function\n",
        "        response = urlopen(src)     # opens the url associated with the variable url\n",
        "        filedata = response.read().decode('utf-8')    \n",
        "        \n",
        "        # Extract the part of the dest(ination) that is *not*\n",
        "        # the actual filename--have a look at how \n",
        "        # os.path.split works using `help(os.path.split)`\n",
        "        path = list(os.path.split(dest)[:-1])   # dest is variale 'out'i.e. our data. os.path.split gets the first bit of the filename up until -> [:-1] which is the fielename, list() turns the result into a list ie.  [users, richy, documents, gis, week1... etc]\n",
        "        \n",
        "        # Create any missing directories in dest(ination) path\n",
        "        # -- os.path.join is the reverse of split (as you saw above)\n",
        "        # but it doesn't work with lists... so I had to google how \n",
        "        # to use the 'splat' operator! os.makedirs creates missing \n",
        "        # directories in a path automatically.\n",
        "        if len(path) >= 1 and path[0] != '':\n",
        "            os.makedirs(os.path.join(*path), exist_ok=True)\n",
        "        \n",
        "        # This would be how to write data to a file, \n",
        "        # but what should we write?\n",
        "        with open(dest, 'w') as f:      # open() opens a file and returns it as a file object\n",
        "            f.write(filedata)     # write() writes text to a file \n",
        "            \n",
        "    else:\n",
        "        print(f\"Found {dest} locally!\")\n",
        "    \n",
        "    with open(dest, 'r', encoding='utf-8') as f:\n",
        "        return f.read().splitlines()\n",
        "        \n",
        "# Using the `return contents` line we make it easy to \n",
        "# see what our function is up to.\n",
        "c = get_url(url, out)"
      ],
      "execution_count": 3,
      "outputs": [
        {
          "output_type": "stream",
          "name": "stdout",
          "text": [
            "data/2020-08-24-sample-listings.csv not found, downloading!\n"
          ]
        }
      ]
    },
    {
      "cell_type": "code",
      "metadata": {
        "colab": {
          "base_uri": "https://localhost:8080/"
        },
        "id": "D8gzKTz9-d8C",
        "outputId": "2dabb9ab-3ac2-4158-80f6-80b0b5de7566"
      },
      "source": [
        "help(os.path.split)"
      ],
      "execution_count": 4,
      "outputs": [
        {
          "output_type": "stream",
          "name": "stdout",
          "text": [
            "Help on function split in module posixpath:\n",
            "\n",
            "split(p)\n",
            "    Split a pathname.  Returns tuple \"(head, tail)\" where \"tail\" is\n",
            "    everything after the final slash.  Either part may be empty.\n",
            "\n"
          ]
        }
      ]
    },
    {
      "cell_type": "markdown",
      "metadata": {
        "id": "7FtdKbVw1CFP"
      },
      "source": [
        "<div style=\"border: dotted 1px rgb(156,121,26); padding: 10px; margin: 5px; background-color: rgb(255,236,184)\"><i>Stop!</i> Notice that we don't try to check if the data file contains any useful data! So if you download or create an empty file while testing, you won't necessarily get an error until you try to turn it into data afterwards!</div>"
      ]
    },
    {
      "cell_type": "markdown",
      "metadata": {
        "id": "mrXXm1Ox1CFP"
      },
      "source": [
        "#### Task 1.5: Read a CSV file into a LoL"
      ]
    },
    {
      "cell_type": "markdown",
      "metadata": {
        "id": "2BER6sb31CFP"
      },
      "source": [
        "Now we've taken care of whether or not the file has already been downloaded, we can focus on the next part of the problem! We have looked at code like this before in the Live sessions."
      ]
    },
    {
      "cell_type": "code",
      "metadata": {
        "id": "xC7l2ef11CFQ",
        "colab": {
          "base_uri": "https://localhost:8080/"
        },
        "outputId": "dfdcc7c3-86bf-43d2-a1d8-8686d8005678"
      },
      "source": [
        "from urllib.request import urlopen\n",
        "import csv\n",
        "import os\n",
        "\n",
        "# Notice that it doesn't make sense to use `dest` as the \n",
        "# parameter name here because we always read *from* a data\n",
        "# source. Your names can be whatever you want, but they \n",
        "# should be logical wherever possible!\n",
        "def to_lol(lst):\n",
        "    \n",
        "    # Rest of code to read file and convert it goes here\n",
        "    csvdata = []    # our empty list to add to\n",
        "    \n",
        "    # This is the same code that you used last week, but \n",
        "    # you'll have to rename some vars to get things to\n",
        "    # work for you here.\n",
        "    csvfile  = csv.reader(lst)\n",
        "    for row in csvfile:              \n",
        "        csvdata.append( row )      # for each row in csvfile add the row to csvdata \n",
        "    \n",
        "    # Return list of lists\n",
        "    return csvdata\n",
        "        \n",
        "# Save the CSV-LoL to a new variable\n",
        "clol = to_lol(c)\n",
        "print(clol)"
      ],
      "execution_count": 5,
      "outputs": [
        {
          "output_type": "stream",
          "name": "stdout",
          "text": [
            "[['id', 'name', 'host_id', 'host_name', 'host_since', 'latitude', 'longitude', 'property_type', 'room_type', 'accommodates', 'bathrooms', 'bedrooms', 'beds', 'price', 'minimum_nights', 'maximum_nights', 'availability_365', 'number_of_reviews', 'calculated_host_listings_count'], ['25339003', 'An Amazing 4Bedroom Home, Central London, Sleeps12', '191329110', 'Emily', '2018-05-24', '51.52865', '-0.19998', 'Entire house', 'Entire home/apt', '12', '', '4.0', '9.0', '$226.00', '2', '1125', '23', '64', '1'], ['40259218', 'Large Double Room - Maida Vale', '302720259', 'Mantas', '2019-10-16', '51.52594000000001', '-0.18909', 'Private room in apartment', 'Private room', '2', '', '1.0', '1.0', '$41.00', '1', '24', '365', '4', '5'], ['20097666', 'Zone 1 : Spacious single bedroom in Bayswater', '39710946', 'Thanyawan', '2015-07-27', '51.51743', '-0.18702', 'Private room in apartment', 'Private room', '1', '', '1.0', '1.0', '$35.00', '4', '1125', '0', '0', '1'], ['40868766', 'Large Smart Room 20 minutes walk to Big Ben', '300905210', 'Nadia', '2019-10-08', '51.48951', '-0.11812', 'Private room in apartment', 'Private room', '2', '', '1.0', '2.0', '$55.00', '2', '1125', '230', '4', '3'], ['29649371', 'Large Notting Hill 2BR near Portobello Rd', '2165973', 'Emily & Kirsty', '2012-04-18', '51.52007', '-0.20328', 'Entire apartment', 'Entire home/apt', '4', '', '2.0', '2.0', '$100.00', '3', '1125', '0', '15', '1'], ['6650370', 'Quiet flat with private garden in Barons Court', '3440336', 'Emily', '2012-09-01', '51.48863', '-0.21495', 'Entire apartment', 'Entire home/apt', '2', '', '1.0', '1.0', '$68.00', '2', '30', '0', '45', '1'], ['42405264', \"Superhost's Lux 3B Luxury Flat- 397 5-Star Reviews\", '28381203', 'Emrah', '2015-02-26', '51.56214', '-0.23681', 'Entire apartment', 'Entire home/apt', '8', '', '3.0', '6.0', '$150.00', '2', '1125', '365', '0', '27'], ['13501585', 'Lovely and bright garden flat', '42097052', 'Tommaso', '2015-08-21', '51.55646', '-0.10387', 'Entire apartment', 'Entire home/apt', '6', '', '3.0', '3.0', '$110.00', '14', '1125', '0', '0', '1'], ['36162322', 'Covent Garden Private Room with Shared Living Room', '8033408', 'Che', '2013-08-08', '51.51228', '-0.12788', 'Room in serviced apartment', 'Hotel room', '2', '', '1.0', '1.0', '$130.00', '2', '1125', '0', '1', '1'], ['20631005', 'Double Room with private bathroom', '42411592', 'Pascale', '2015-08-24', '51.47273', '-0.04183', 'Private room in house', 'Private room', '2', '', '1.0', '1.0', '$45.00', '2', '1125', '340', '2', '2'], ['32175015', 'Warm 1BR garden flat in leafy Hampstead (Veeve)', '137094377', 'Veeve', '2017-06-26', '51.547', '-0.17704', 'Entire apartment', 'Entire home/apt', '4', '', '1.0', '1.0', '$166.00', '4', '1125', '246', '0', '267'], ['38406649', 'Single  in NW2', '192355301', 'Nilgun', '2018-05-29', '51.56214', '-0.22505', 'Private room in house', 'Private room', '1', '', '1.0', '1.0', '$29.00', '3', '1125', '363', '1', '3'], ['21315952', 'single bedroom near heathrow london free parking', '154284698', 'Mark', '2017-10-12', '51.43955', '-0.40618', 'Private room', 'Private room', '1', '', '1.0', '1.0', '$20.00', '3', '7', '89', '69', '1'], ['16361918', 'Luxury New Apartment with Spa and Pool', '4221972', 'Emile', '2012-11-23', '51.53099', '-0.09709', 'Entire apartment', 'Entire home/apt', '4', '', '2.0', '2.0', '$150.00', '50', '1125', '3', '2', '4'], ['39556787', 'Stylish Family Maisonette in Vibrant South London', '39738485', 'Holly', '2015-07-27', '51.42263', '-0.16713', 'Entire apartment', 'Entire home/apt', '4', '', '2.0', '3.0', '$102.00', '2', '365', '0', '1', '1'], ['26542484', 'Single/double room facing garden', '5160322', 'Dan', '2013-02-20', '51.46852', '-0.09454', 'Private room in apartment', 'Private room', '2', '', '1.0', '1.0', '$29.00', '3', '30', '365', '9', '1'], ['21744434', 'Spaceous 2 bed house in Battersea / Clapham', '121905649', 'James', '2017-03-21', '51.46597', '-0.16261', 'Entire house', 'Entire home/apt', '4', '', '2.0', '2.0', '$300.00', '1', '1125', '180', '3', '1'], ['4059945', 'Fitzrovia, Oxford circus, Soho', '21057314', 'Vilma', '2014-09-07', '51.51528', '-0.14195', 'Entire apartment', 'Entire home/apt', '4', '', '2.0', '2.0', '$203.00', '5', '60', '88', '33', '1'], ['5345295', 'Balham - Beautiful Room', '27697836', 'Georgie', '2015-02-13', '51.43855', '-0.14878', 'Private room in house', 'Private room', '2', '', '1.0', '1.0', '$56.00', '1', '1125', '365', '16', '1'], ['44257873', '133R6 Ensuite modern, quiet room, 20min to center', '190233321', 'Santa', '2018-05-18', '51.5166', '-0.25064000000000003', 'Private room in house', 'Private room', '1', '', '1.0', '0.0', '$30.00', '12', '99', '64', '0', '10'], ['15768207', 'Large double bedroom PLUS full use of lovely house', '26527466', 'Michael', '2015-01-22', '51.43917', '0.06681000000000001', 'Private room in house', 'Private room', '2', '', '1.0', '1.0', '$50.00', '2', '21', '87', '10', '2'], ['1683278', 'Chelsea - Luxury flat with terrace', '2036946', 'Francesco', '2012-03-30', '51.49193', '-0.16441', 'Entire apartment', 'Entire home/apt', '2', '', '1.0', '1.0', '$230.00', '4', '1125', '0', '3', '15'], ['24386203', 'London room with good links into town', '184057890', 'Emma', '2018-04-13', '51.66791', '-0.0271', 'Private room in house', 'Private room', '1', '', '1.0', '1.0', '$23.00', '1', '7', '83', '0', '1'], ['39349912', 'Fun, Stylish 5-Bed Family House in Kensal Green', '27572615', 'Emily', '2015-02-11', '51.53391', '-0.23132', 'Entire house', 'Entire home/apt', '9', '', '5.0', '4.0', '$413.00', '3', '1125', '0', '0', '169'], ['29726372', 'Lovely 2 BEDROOM flat, heart of Fulham(sleeps 4-5)', '26816558', 'Gemma', '2015-01-27', '51.47765', '-0.1942', 'Entire apartment', 'Entire home/apt', '5', '', '2.0', '5.0', '$149.00', '1', '1125', '52', '26', '2'], ['34713135', 'DBL ROOM NEAR WHITECHAPEL ( E3 5DF)', '45985758', 'Md', '2015-10-07', '51.52908', '-0.03751', 'Private room in house', 'Private room', '1', '', '1.0', '1.0', '$32.00', '15', '1125', '365', '0', '1'], ['424511', 'House to rent in Olimpics', '2110389', 'Giray', '2012-04-10', '51.51367', '0.04656', 'Entire house', 'Entire home/apt', '4', '', '2.0', '1.0', '$181.00', '7', '1125', '0', '0', '1'], ['2465026', 'Luxury 2-Bed Flat with Balcony, 15min to West End', '5404325', 'Gabriele', '2013-03-10', '51.47604000000001', '-0.11684', 'Entire apartment', 'Entire home/apt', '5', '', '2.0', '3.0', '$199.00', '4', '1125', '0', '26', '2'], ['4743124', 'Spacious, sunny room in Dalston home', '12747127', 'Shu Han', '2014-03-03', '51.55571', '-0.07282999999999999', 'Private room in house', 'Private room', '2', '', '1.0', '1.0', '$26.00', '1', '1125', '0', '1', '1'], ['25134847', 'New Modern Family Home In Uxbridge .', '189965061', 'Amrik', '2018-05-16', '51.51895', '-0.47724', 'Entire house', 'Entire home/apt', '8', '', '4.0', '4.0', '$150.00', '3', '365', '0', '7', '1'], ['39437321', 'Bed in 8-Bed Mixed Dorm with Ensuite Bathroom', '302707533', 'Safestay', '2019-10-16', '51.49142', '-0.09879', 'Shared room in hostel', 'Shared room', '8', '', '1.0', '8.0', '$15.00', '1', '365', '237', '0', '9'], ['35825237', 'Piccadilly Line-Turnpike Lane Station', '29918926', 'Jack', '2015-03-24', '51.59264', '-0.09536', 'Private room in house', 'Private room', '1', '', '1.0', '1.0', '$25.00', '2', '45', '357', '13', '1'], ['1474317', 'Shoreditch Luxury Room + en-suite', '8896463', 'Rich', '2013-09-17', '51.5251', '-0.08163', 'Private room in apartment', 'Private room', '3', '', '1.0', '1.0', '$89.00', '1', '365', '0', '25', '1'], ['28652501', 'Sweet Home', '216190599', 'Nick', '2018-09-19', '51.43713', '-0.12679', 'Private room in apartment', 'Private room', '3', '', '1.0', '2.0', '$30.00', '1', '1125', '90', '32', '1'], ['6868537', 'Designer flat in Primrose Hill', '338851', 'Giorgia', '2011-01-07', '51.54192000000001', '-0.16419', 'Entire apartment', 'Entire home/apt', '5', '', '2.0', '4.0', '$260.00', '5', '1125', '329', '11', '2'], ['726669', 'Brand new studio in Victoria 11A', '580475', 'Alessandro', '2011-05-11', '51.49142', '-0.13955', 'Entire apartment', 'Entire home/apt', '2', '', '1.0', '1.0', '$76.00', '1', '1125', '0', '330', '41'], ['20821143', 'Spacious 1 bed apartment near Tower Bridge', '148641390', 'Andrew', '2017-09-01', '51.49344', '-0.07324', 'Entire apartment', 'Entire home/apt', '2', '', '1.0', '1.0', '$96.00', '3', '1125', '11', '76', '1'], ['10408740', 'Trendy 2 bedroom flat in Shoreditch', '7807701', 'Joseph', '2013-07-29', '51.54198', '-0.07958', 'Entire apartment', 'Entire home/apt', '4', '', '2.0', '2.0', '$148.00', '2', '1125', '0', '6', '1'], ['14309812', 'Eye of London by Merino', '5352830', 'Caio & Louise', '2013-03-06', '51.51588', '-0.11234', 'Entire apartment', 'Entire home/apt', '4', '', '2.0', '2.0', '$337.00', '2', '1125', '356', '32', '7'], ['27866278', 'Hoxton / Haggerston Apartment', '28822248', 'Caite', '2015-03-05', '51.53629', '-0.0751', 'Entire apartment', 'Entire home/apt', '2', '', '1.0', '1.0', '$95.00', '2', '1125', '34', '14', '1'], ['40885187', 'Stylish 2-Bed Garden Apartment, 1 min from Tube!', '27572615', 'Emily', '2015-02-11', '51.49086', '-0.19211', 'Entire apartment', 'Entire home/apt', '4', '', '2.0', '2.0', '$297.00', '3', '1125', '0', '1', '169'], ['28394803', 'The Garden Studios, London SW13 - Sleeps 6.', '148114998', 'Lurdes', '2017-08-28', '51.47749', '-0.24351', 'Private room in guesthouse', 'Private room', '6', '', '3.0', '4.0', '$170.00', '3', '90', '338', '8', '2'], ['8680525', 'Spacious flat nearby river & park', '43582898', 'Julianne', '2015-09-07', '51.48067', '-0.09683', 'Private room in apartment', 'Private room', '2', '', '1.0', '1.0', '$55.00', '2', '1125', '0', '1', '1'], ['13433229', 'Separate annex in lovely area close to Wimbledon', '28695363', 'Vincent', '2015-03-03', '51.39508', '-0.21914', 'Entire guest suite', 'Entire home/apt', '2', '', '', '1.0', '$59.00', '2', '7', '172', '115', '1'], ['37215315', 'Avni Kensington Hotel', '280178840', 'Thelma', '2019-07-28', '51.49521', '-0.14072', 'Entire house', 'Entire home/apt', '2', '', '1.0', '1.0', '$430.00', '1', '1125', '365', '0', '1'], ['39432597', '3 Bed, 20 min to Liverpool st, EAST LONDON', '302880841', 'Dean', '2019-10-17', '51.55014', '0.01832', 'Entire house', 'Entire home/apt', '7', '', '3.0', '5.0', '$110.00', '3', '1125', '0', '2', '1'], ['42843489', 'Deluxe Double Room in OYO The Greenland Hotel', '337666693', 'OYO The Greenland Hotel', '2020-02-20', '51.4787', '0.02016', 'Room in boutique hotel', 'Private room', '2', '', '1.0', '1.0', '$504.00', '1', '1125', '336', '0', '3'], ['42337868', 'Trendy 3BR Family Garden Home in Dalston - up to 5 guests!', '6703533', 'Jessica', '2013-06-02', '51.55408', '-0.07767', 'Entire house', 'Entire home/apt', '5', '', '3.0', '3.0', '$175.00', '3', '1125', '0', '1', '1'], ['25451074', 'Private room in East London', '104508239', 'Agata', '2016-11-20', '51.54781', '-0.06857', 'Private room in apartment', 'Private room', '1', '', '1.0', '1.0', '$26.00', '1', '1125', '0', '1', '1'], ['39817130', 'Cosy 1 Bedroom Apt, 8 mins to Aldgate East Station', '96569915', 'Tee & Jay', '2016-09-24', '51.51466', '-0.06433', 'Entire apartment', 'Entire home/apt', '6', '', '1.0', '3.0', '$85.00', '2', '90', '0', '19', '9'], ['41950973', 'Supreme Triple Studio in the heart of Baker Street', '178407503', 'Nox Hotels', '2018-03-14', '51.52378', '-0.1604', 'Private room in serviced apartment', 'Private room', '3', '', '2.0', '2.0', '$156.71', '1', '1125', '2', '0', '5'], ['42513545', 'Spacious room in a cosy home', '338565890', 'Dila', '2020-02-24', '51.58043', '-0.04007', 'Private room in house', 'Private room', '2', '', '1.0', '2.0', '$26.00', '1', '20', '85', '2', '1'], ['27026005', 'Cozy single room in Stockwell', '188332446', 'Mario And Elena', '2018-05-07', '51.47356', '-0.12536', 'Private room in apartment', 'Private room', '1', '', '1.0', '0.0', '$37.00', '2', '1125', '91', '64', '4'], ['1114488', 'Flat in Islington, Central London', '6116528', 'Richard', '2013-04-27', '51.5489', '-0.10863', 'Entire apartment', 'Entire home/apt', '2', '', '1.0', '1.0', '$55.00', '28', '1125', '75', '4', '1'], ['32253983', 'Studio Two ArtHouse London Bridge', '241166714', 'Michael', '2019-02-05', '51.50297', '-0.08542999999999999', 'Private room in townhouse', 'Private room', '4', '', '2.0', '2.0', '$102.00', '3', '1125', '327', '31', '2'], ['39911815', 'Luxurious 4-Bed House in Fulham with Terrace', '27572615', 'Emily', '2015-02-11', '51.4776', '-0.19178', 'Entire house', 'Entire home/apt', '10', '', '4.0', '4.0', '$798.00', '5', '1125', '122', '0', '169'], ['39225196', 'Room 1, Kenmare, New Road Rainham, RM13 9PN', '300916979', 'Jude', '2019-10-08', '51.51981', '0.2053', 'Private room in house', 'Private room', '2', '', '1.0', '1.0', '$60.00', '1', '15', '89', '0', '2'], ['18789292', 'Light and spacious 2bed 1 bath flat!', '39496502', 'Frances', '2015-07-25', '51.47302', '-0.12635', 'Entire apartment', 'Entire home/apt', '4', '', '2.0', '2.0', '$120.00', '2', '1125', '0', '7', '1'], ['13289226', 'I love Peckham', '7851320', 'Tanya', '2013-07-31', '51.472', '-0.07514', 'Entire apartment', 'Entire home/apt', '2', '', '1.0', '1.0', '$120.00', '7', '1125', '33', '2', '1'], ['29502574', 'Spacious room in beautiful flat. East London!', '28936999', 'Anisa', '2015-03-07', '51.53121', '-0.05731', 'Private room in apartment', 'Private room', '1', '', '1.0', '1.0', '$50.00', '2', '90', '329', '38', '1'], ['20893587', 'Peaceful with stylish private bathroom VH', '68561737', 'Veronica', '2016-04-23', '51.4367', '-0.16719', 'Private room in house', 'Private room', '2', '', '1.0', '1.0', '$40.00', '3', '14', '168', '95', '1'], ['23523880', '3 Bedroom family home in West Dulwich', '17931388', 'Allan', '2014-07-10', '51.43119', '-0.08983', 'Entire house', 'Entire home/apt', '9', '', '3.0', '4.0', '$98.00', '3', '30', '178', '0', '1'], ['10880757', 'Chelsea/Fulham stylish 3Bed Terrace', '56374442', 'Christian', '2016-01-27', '51.47139', '-0.18524', 'Entire apartment', 'Entire home/apt', '6', '', '3.0', '3.0', '$185.00', '3', '1125', '0', '22', '2'], ['44069559', 'Short let spacious double room in East London', '97529920', 'Chiara', '2016-10-01', '51.55423', '-0.07896', 'Private room in condominium', 'Private room', '1', '', '1.0', '0.0', '$25.00', '30', '45', '5', '0', '1'], ['34556153', 'Lovely double bedroom in modern house', '27397891', 'Erika', '2015-02-08', '51.48087', '-0.33142', 'Private room in house', 'Private room', '2', '', '1.0', '1.0', '$45.00', '2', '30', '179', '16', '2'], ['15307633', 'Farmhouse close to London in beautiful grounds', '97494946', 'Katie', '2016-10-01', '51.44118', '0.15287', 'Entire house', 'Entire home/apt', '7', '', '4.0', '6.0', '$250.00', '2', '1125', '169', '16', '1'], ['12263797', 'Pretty one bedroom cottage in leafy london suburb', '66047258', 'Anne', '2016-04-06', '51.41899', '-0.04507', 'Entire guest suite', 'Entire home/apt', '2', '', '1.0', '1.0', '$58.00', '7', '1125', '305', '33', '1'], ['32347496', 'Beautiful Large Clean Quiet En-suit Double Room!', '131528337', 'Njabulo', '2017-05-22', '51.58425', '-0.17264000000000002', 'Private room in apartment', 'Private room', '2', '', '1.0', '1.0', '$45.00', '1', '30', '365', '27', '3'], ['668819', 'Single Room to let in Clean House', '3381734', 'Jane', '2012-08-26', '51.55851', '-0.00967', 'Private room in townhouse', 'Private room', '1', '', '1.0', '1.0', '$19.00', '1', '180', '318', '126', '2'], ['29896303', 'Clean Cosy Loft (private parking & tube)', '107260536', 'Marlon', '2016-12-14', '51.41674', '-0.17246', 'Private room in house', 'Private room', '3', '', '1.0', '1.0', '$49.00', '1', '9', '55', '61', '2'], ['13663264', '3bedroom Family Home minutes from Kensington Tube', '37056489', 'Will', '2015-06-29', '51.49228', '-0.20883', 'Entire apartment', 'Entire home/apt', '6', '', '3.0', '4.0', '$221.00', '3', '1125', '338', '153', '14'], ['40657332', 'Professionally cleaned 1 bed west London apt seconds from Fulham Broadway', '258580205', 'Sverrir & Vesta', '2019-04-28', '51.48087', '-0.1967', 'Entire apartment', 'Entire home/apt', '3', '', '1.0', '1.0', '$104.00', '2', '1125', '0', '1', '50'], ['29230752', 'Double room in modern chic apartment, Dalston E8', '1951049', 'Claudia', '2012-03-18', '51.54222', '-0.0703', 'Private room in apartment', 'Private room', '2', '', '1.0', '1.0', '$65.00', '1', '1125', '364', '5', '2'], ['32842985', 'Modern & Bright Entire Flat 2 Rooms Old Street', '49413779', 'Olivia', '2015-11-19', '51.53159', '-0.08668', 'Entire apartment', 'Entire home/apt', '4', '', '2.0', '2.0', '$95.00', '5', '1125', '0', '13', '1'], ['1043759', 'Room in Central London Paddington', '5747106', 'Salwa', '2013-04-03', '51.52146', '-0.18633', 'Private room in apartment', 'Private room', '2', '', '1.0', '2.0', '$70.00', '90', '1125', '365', '185', '3'], ['22987867', 'NEW HOME OR HOLIDAY IN LONDON - long or short term', '168407586', 'Genna', '2018-01-17', '51.47473', '-0.06875', 'Private room in house', 'Private room', '2', '', '1.0', '1.0', '$30.00', '1', '365', '270', '1', '1'], ['11707553', 'Room and bathroom close to central', '20351987', 'Lu', '2014-08-21', '51.42829', '-0.15175', 'Private room in apartment', 'Private room', '2', '', '1.0', '1.0', '$38.00', '2', '7', '0', '3', '1'], ['20238937', 'Lovely Room in Best Location', '94603761', 'Moritz', '2016-09-11', '51.52749', '-0.11687', 'Private room in apartment', 'Private room', '1', '', '1.0', '1.0', '$35.00', '6', '1125', '0', '0', '2'], ['42106572', 'Luxury Apartment Canary Wharf', '297690387', 'Flexystays', '2019-09-24', '51.51376', '-0.02139', 'Entire apartment', 'Entire home/apt', '4', '', '2.0', '2.0', '$165.00', '2', '1125', '170', '5', '51'], ['31814561', 'Studio 9-Camden Style- Twin beds or Superking!', '30629100', 'Gary', '2015-04-05', '51.38298', '-0.08001', 'Entire apartment', 'Entire home/apt', '2', '', '', '3.0', '$46.71', '4', '365', '298', '58', '12'], ['12195983', 'Large Knightsbridge 2Bed 2Bath Free WiFi', '31066062', 'Robert', '2015-04-12', '51.49425', '-0.16382', 'Entire apartment', 'Entire home/apt', '5', '', '2.0', '2.0', '$515.00', '3', '1124', '0', '13', '42'], ['41276640', 'Great Location of my flat 15mn from central london', '324177252', 'Rhita', '2020-01-04', '51.55201', '-0.11021', 'Private room in apartment', 'Private room', '2', '', '2.0', '3.0', '$55.00', '3', '10', '83', '0', '1'], ['19036976', 'Luxury Room in a Great Location.', '132853716', 'Joey', '2017-05-31', '51.552', '-0.18813', 'Private room in apartment', 'Private room', '2', '', '1.0', '2.0', '$47.00', '3', '93', '364', '50', '2'], ['19246652', 'Southfields Home', '4037050', 'Ben', '2012-11-01', '51.4514', '-0.2021', 'Entire apartment', 'Entire home/apt', '5', '', '2.0', '3.0', '$85.00', '6', '20', '0', '3', '1'], ['41665916', '4 Bedroom family house in Ilford East London', '92973657', 'Biodun', '2016-09-01', '51.5492', '0.08101', 'Entire house', 'Entire home/apt', '7', '', '4.0', '4.0', '$150.00', '3', '14', '0', '5', '1'], ['29752790', 'Comfy 1Bedroom Apartment in the heart of London', '201263915', 'Claire', '2018-07-10', '51.51461', '-0.12717', 'Entire apartment', 'Entire home/apt', '2', '', '1.0', '1.0', '$65.00', '2', '28', '0', '8', '1'], ['38222036', 'Luxury 2 bed 2 minutes from station', '204530689', 'Tan', '2018-07-23', '51.51704', '-0.07182999999999999', 'Entire apartment', 'Entire home/apt', '4', '', '2.0', '2.0', '$170.00', '7', '1125', '0', '1', '1'], ['37427933', 'Private room in Dalston sleeps 3', '82448401', 'Maureen', '2016-07-08', '51.55341', '-0.06899', 'Private room in house', 'Private room', '3', '', '1.0', '2.0', '$16.00', '1', '28', '252', '25', '3'], ['20916454', 'Delightful Private Bedroom, 2 mins to Tube', '150322962', 'Diyala', '2017-09-12', '51.49003', '-0.19176', 'Private room in apartment', 'Private room', '2', '', '1.0', '1.0', '$45.00', '1', '14', '363', '23', '1'], ['29273072', 'Ensuite room (privat)  30 min to Central London', '220537638', 'Marita', '2018-10-14', '51.48769', '0.11406', 'Private room in house', 'Private room', '2', '', '1.0', '1.0', '$25.00', '1', '180', '0', '27', '1'], ['8948392', 'Flat in a new building, canal views', '2153966', 'Michael', '2012-04-16', '51.53855', '-0.07819', 'Entire apartment', 'Entire home/apt', '4', '', '1.0', '2.0', '$99.00', '4', '30', '268', '3', '1'], ['38322409', 'Close 2 Royal Arsenal, Thames Clipper City Airport', '81937925', 'Neil', '2016-07-05', '51.49341', '0.0818', 'Private room in house', 'Private room', '1', '', '1.0', '1.0', '$25.00', '1', '1125', '0', '2', '2'], ['24146292', 'Large Double in a 2-bed garden flat in Ally Pally', '5047300', 'Kat', '2013-02-11', '51.59852', '-0.12318', 'Private room in apartment', 'Private room', '2', '', '1.0', '1.0', '$50.00', '1', '1125', '80', '1', '1'], ['21996251', 'Cosy room in very good location', '58077301', 'Sylwia', '2016-02-09', '51.55031', '0.00373', 'Private room in house', 'Private room', '1', '', '1.0', '1.0', '$17.00', '4', '12', '0', '0', '1'], ['22681593', 'Charming house with garden in the heart of Peckham', '11875492', 'Anna Rose', '2014-02-02', '51.46763', '-0.07021000000000001', 'Entire townhouse', 'Entire home/apt', '2', '', '1.0', '1.0', '$95.00', '5', '30', '0', '28', '1'], ['33923856', 'King-size bed in stylish,  peaceful artist’s flat', '2594564', 'Adit', '2012-06-10', '51.61141', '-0.12465', 'Private room in apartment', 'Private room', '2', '', '1.0', '1.0', '$50.00', '2', '30', '90', '0', '1'], ['18734228', 'Top floor 1 bed apartment with spectacular views', '5065286', 'Dom', '2013-02-12', '51.48843', '-0.21288', 'Entire apartment', 'Entire home/apt', '2', '', '1.0', '1.0', '$105.00', '3', '1125', '0', '2', '1'], ['41376268', '(8DH) Dreams Unlimited - Hounslow/Heathrow', '142206238', 'Rajesh', '2017-07-24', '51.47631', '-0.34523000000000004', 'Entire apartment', 'Entire home/apt', '6', '', '2.0', '2.0', '$142.00', '1', '1125', '365', '1', '4'], ['34560337', 'Portobello Mews House for 8 guests+free parking', '47237234', 'Marcus', '2015-10-23', '51.51818', '-0.20678', 'Entire house', 'Entire home/apt', '8', '', '4.0', '4.0', '$263.00', '2', '31', '52', '13', '1'], ['40373464', 'Modern, Small Double Private Room', '139052118', 'Leon', '2017-07-07', '51.46497', '-0.17807', 'Private room in apartment', 'Private room', '1', '', '1.0', '1.0', '$38.00', '1', '1125', '0', '4', '6']]\n"
          ]
        }
      ]
    },
    {
      "cell_type": "code",
      "metadata": {
        "colab": {
          "base_uri": "https://localhost:8080/"
        },
        "id": "8efsyBti1CFQ",
        "outputId": "0a91a83c-7bd2-453c-9d80-ab7448dc042b"
      },
      "source": [
        "print(f\"LoL has {len(clol)} rows and {len(clol[0])} columns.\")\n",
        "print(clol[0][:2])\n",
        "print(clol[-1][:2])"
      ],
      "execution_count": 6,
      "outputs": [
        {
          "output_type": "stream",
          "name": "stdout",
          "text": [
            "LoL has 101 rows and 19 columns.\n",
            "['id', 'name']\n",
            "['40373464', 'Modern, Small Double Private Room']\n"
          ]
        }
      ]
    },
    {
      "cell_type": "markdown",
      "metadata": {
        "id": "Nwn7bypM1CFQ"
      },
      "source": [
        "You should get: \n",
        "```\n",
        "LoL has 101 rows and 19 columns.\n",
        "['id', 'name']\n",
        "['40373464', 'Modern, Small Double Private Room']\n",
        "```"
      ]
    },
    {
      "cell_type": "markdown",
      "metadata": {
        "id": "yOdTxsh21CFQ"
      },
      "source": [
        "#### Task 1.6: Convert a LoL to a DoL\n",
        "\n",
        "We're going to assume that the first row of our LoL is always a _header_ (i.e. list of column names). If it's not then this code is going to have problems. A _robust_ function would allow us to specify column names when we create the data structure, but let's not get caught up in that level of detail just yet.\n",
        "\n",
        "Have a look at Task 2.3 from the Live Coding session to see how to fill this in... Notice that I've also, for the first time used the docstring support offered by Python. Once this function is working you'll be able to use `help(to_dol)` and get back the docstring help!"
      ]
    },
    {
      "cell_type": "code",
      "metadata": {
        "colab": {
          "base_uri": "https://localhost:8080/"
        },
        "id": "XawtcO-nU5qA",
        "outputId": "b8d1bb83-bcca-463b-a781-28bb7a4da515"
      },
      "source": [
        "print(clol)"
      ],
      "execution_count": 7,
      "outputs": [
        {
          "output_type": "stream",
          "name": "stdout",
          "text": [
            "[['id', 'name', 'host_id', 'host_name', 'host_since', 'latitude', 'longitude', 'property_type', 'room_type', 'accommodates', 'bathrooms', 'bedrooms', 'beds', 'price', 'minimum_nights', 'maximum_nights', 'availability_365', 'number_of_reviews', 'calculated_host_listings_count'], ['25339003', 'An Amazing 4Bedroom Home, Central London, Sleeps12', '191329110', 'Emily', '2018-05-24', '51.52865', '-0.19998', 'Entire house', 'Entire home/apt', '12', '', '4.0', '9.0', '$226.00', '2', '1125', '23', '64', '1'], ['40259218', 'Large Double Room - Maida Vale', '302720259', 'Mantas', '2019-10-16', '51.52594000000001', '-0.18909', 'Private room in apartment', 'Private room', '2', '', '1.0', '1.0', '$41.00', '1', '24', '365', '4', '5'], ['20097666', 'Zone 1 : Spacious single bedroom in Bayswater', '39710946', 'Thanyawan', '2015-07-27', '51.51743', '-0.18702', 'Private room in apartment', 'Private room', '1', '', '1.0', '1.0', '$35.00', '4', '1125', '0', '0', '1'], ['40868766', 'Large Smart Room 20 minutes walk to Big Ben', '300905210', 'Nadia', '2019-10-08', '51.48951', '-0.11812', 'Private room in apartment', 'Private room', '2', '', '1.0', '2.0', '$55.00', '2', '1125', '230', '4', '3'], ['29649371', 'Large Notting Hill 2BR near Portobello Rd', '2165973', 'Emily & Kirsty', '2012-04-18', '51.52007', '-0.20328', 'Entire apartment', 'Entire home/apt', '4', '', '2.0', '2.0', '$100.00', '3', '1125', '0', '15', '1'], ['6650370', 'Quiet flat with private garden in Barons Court', '3440336', 'Emily', '2012-09-01', '51.48863', '-0.21495', 'Entire apartment', 'Entire home/apt', '2', '', '1.0', '1.0', '$68.00', '2', '30', '0', '45', '1'], ['42405264', \"Superhost's Lux 3B Luxury Flat- 397 5-Star Reviews\", '28381203', 'Emrah', '2015-02-26', '51.56214', '-0.23681', 'Entire apartment', 'Entire home/apt', '8', '', '3.0', '6.0', '$150.00', '2', '1125', '365', '0', '27'], ['13501585', 'Lovely and bright garden flat', '42097052', 'Tommaso', '2015-08-21', '51.55646', '-0.10387', 'Entire apartment', 'Entire home/apt', '6', '', '3.0', '3.0', '$110.00', '14', '1125', '0', '0', '1'], ['36162322', 'Covent Garden Private Room with Shared Living Room', '8033408', 'Che', '2013-08-08', '51.51228', '-0.12788', 'Room in serviced apartment', 'Hotel room', '2', '', '1.0', '1.0', '$130.00', '2', '1125', '0', '1', '1'], ['20631005', 'Double Room with private bathroom', '42411592', 'Pascale', '2015-08-24', '51.47273', '-0.04183', 'Private room in house', 'Private room', '2', '', '1.0', '1.0', '$45.00', '2', '1125', '340', '2', '2'], ['32175015', 'Warm 1BR garden flat in leafy Hampstead (Veeve)', '137094377', 'Veeve', '2017-06-26', '51.547', '-0.17704', 'Entire apartment', 'Entire home/apt', '4', '', '1.0', '1.0', '$166.00', '4', '1125', '246', '0', '267'], ['38406649', 'Single  in NW2', '192355301', 'Nilgun', '2018-05-29', '51.56214', '-0.22505', 'Private room in house', 'Private room', '1', '', '1.0', '1.0', '$29.00', '3', '1125', '363', '1', '3'], ['21315952', 'single bedroom near heathrow london free parking', '154284698', 'Mark', '2017-10-12', '51.43955', '-0.40618', 'Private room', 'Private room', '1', '', '1.0', '1.0', '$20.00', '3', '7', '89', '69', '1'], ['16361918', 'Luxury New Apartment with Spa and Pool', '4221972', 'Emile', '2012-11-23', '51.53099', '-0.09709', 'Entire apartment', 'Entire home/apt', '4', '', '2.0', '2.0', '$150.00', '50', '1125', '3', '2', '4'], ['39556787', 'Stylish Family Maisonette in Vibrant South London', '39738485', 'Holly', '2015-07-27', '51.42263', '-0.16713', 'Entire apartment', 'Entire home/apt', '4', '', '2.0', '3.0', '$102.00', '2', '365', '0', '1', '1'], ['26542484', 'Single/double room facing garden', '5160322', 'Dan', '2013-02-20', '51.46852', '-0.09454', 'Private room in apartment', 'Private room', '2', '', '1.0', '1.0', '$29.00', '3', '30', '365', '9', '1'], ['21744434', 'Spaceous 2 bed house in Battersea / Clapham', '121905649', 'James', '2017-03-21', '51.46597', '-0.16261', 'Entire house', 'Entire home/apt', '4', '', '2.0', '2.0', '$300.00', '1', '1125', '180', '3', '1'], ['4059945', 'Fitzrovia, Oxford circus, Soho', '21057314', 'Vilma', '2014-09-07', '51.51528', '-0.14195', 'Entire apartment', 'Entire home/apt', '4', '', '2.0', '2.0', '$203.00', '5', '60', '88', '33', '1'], ['5345295', 'Balham - Beautiful Room', '27697836', 'Georgie', '2015-02-13', '51.43855', '-0.14878', 'Private room in house', 'Private room', '2', '', '1.0', '1.0', '$56.00', '1', '1125', '365', '16', '1'], ['44257873', '133R6 Ensuite modern, quiet room, 20min to center', '190233321', 'Santa', '2018-05-18', '51.5166', '-0.25064000000000003', 'Private room in house', 'Private room', '1', '', '1.0', '0.0', '$30.00', '12', '99', '64', '0', '10'], ['15768207', 'Large double bedroom PLUS full use of lovely house', '26527466', 'Michael', '2015-01-22', '51.43917', '0.06681000000000001', 'Private room in house', 'Private room', '2', '', '1.0', '1.0', '$50.00', '2', '21', '87', '10', '2'], ['1683278', 'Chelsea - Luxury flat with terrace', '2036946', 'Francesco', '2012-03-30', '51.49193', '-0.16441', 'Entire apartment', 'Entire home/apt', '2', '', '1.0', '1.0', '$230.00', '4', '1125', '0', '3', '15'], ['24386203', 'London room with good links into town', '184057890', 'Emma', '2018-04-13', '51.66791', '-0.0271', 'Private room in house', 'Private room', '1', '', '1.0', '1.0', '$23.00', '1', '7', '83', '0', '1'], ['39349912', 'Fun, Stylish 5-Bed Family House in Kensal Green', '27572615', 'Emily', '2015-02-11', '51.53391', '-0.23132', 'Entire house', 'Entire home/apt', '9', '', '5.0', '4.0', '$413.00', '3', '1125', '0', '0', '169'], ['29726372', 'Lovely 2 BEDROOM flat, heart of Fulham(sleeps 4-5)', '26816558', 'Gemma', '2015-01-27', '51.47765', '-0.1942', 'Entire apartment', 'Entire home/apt', '5', '', '2.0', '5.0', '$149.00', '1', '1125', '52', '26', '2'], ['34713135', 'DBL ROOM NEAR WHITECHAPEL ( E3 5DF)', '45985758', 'Md', '2015-10-07', '51.52908', '-0.03751', 'Private room in house', 'Private room', '1', '', '1.0', '1.0', '$32.00', '15', '1125', '365', '0', '1'], ['424511', 'House to rent in Olimpics', '2110389', 'Giray', '2012-04-10', '51.51367', '0.04656', 'Entire house', 'Entire home/apt', '4', '', '2.0', '1.0', '$181.00', '7', '1125', '0', '0', '1'], ['2465026', 'Luxury 2-Bed Flat with Balcony, 15min to West End', '5404325', 'Gabriele', '2013-03-10', '51.47604000000001', '-0.11684', 'Entire apartment', 'Entire home/apt', '5', '', '2.0', '3.0', '$199.00', '4', '1125', '0', '26', '2'], ['4743124', 'Spacious, sunny room in Dalston home', '12747127', 'Shu Han', '2014-03-03', '51.55571', '-0.07282999999999999', 'Private room in house', 'Private room', '2', '', '1.0', '1.0', '$26.00', '1', '1125', '0', '1', '1'], ['25134847', 'New Modern Family Home In Uxbridge .', '189965061', 'Amrik', '2018-05-16', '51.51895', '-0.47724', 'Entire house', 'Entire home/apt', '8', '', '4.0', '4.0', '$150.00', '3', '365', '0', '7', '1'], ['39437321', 'Bed in 8-Bed Mixed Dorm with Ensuite Bathroom', '302707533', 'Safestay', '2019-10-16', '51.49142', '-0.09879', 'Shared room in hostel', 'Shared room', '8', '', '1.0', '8.0', '$15.00', '1', '365', '237', '0', '9'], ['35825237', 'Piccadilly Line-Turnpike Lane Station', '29918926', 'Jack', '2015-03-24', '51.59264', '-0.09536', 'Private room in house', 'Private room', '1', '', '1.0', '1.0', '$25.00', '2', '45', '357', '13', '1'], ['1474317', 'Shoreditch Luxury Room + en-suite', '8896463', 'Rich', '2013-09-17', '51.5251', '-0.08163', 'Private room in apartment', 'Private room', '3', '', '1.0', '1.0', '$89.00', '1', '365', '0', '25', '1'], ['28652501', 'Sweet Home', '216190599', 'Nick', '2018-09-19', '51.43713', '-0.12679', 'Private room in apartment', 'Private room', '3', '', '1.0', '2.0', '$30.00', '1', '1125', '90', '32', '1'], ['6868537', 'Designer flat in Primrose Hill', '338851', 'Giorgia', '2011-01-07', '51.54192000000001', '-0.16419', 'Entire apartment', 'Entire home/apt', '5', '', '2.0', '4.0', '$260.00', '5', '1125', '329', '11', '2'], ['726669', 'Brand new studio in Victoria 11A', '580475', 'Alessandro', '2011-05-11', '51.49142', '-0.13955', 'Entire apartment', 'Entire home/apt', '2', '', '1.0', '1.0', '$76.00', '1', '1125', '0', '330', '41'], ['20821143', 'Spacious 1 bed apartment near Tower Bridge', '148641390', 'Andrew', '2017-09-01', '51.49344', '-0.07324', 'Entire apartment', 'Entire home/apt', '2', '', '1.0', '1.0', '$96.00', '3', '1125', '11', '76', '1'], ['10408740', 'Trendy 2 bedroom flat in Shoreditch', '7807701', 'Joseph', '2013-07-29', '51.54198', '-0.07958', 'Entire apartment', 'Entire home/apt', '4', '', '2.0', '2.0', '$148.00', '2', '1125', '0', '6', '1'], ['14309812', 'Eye of London by Merino', '5352830', 'Caio & Louise', '2013-03-06', '51.51588', '-0.11234', 'Entire apartment', 'Entire home/apt', '4', '', '2.0', '2.0', '$337.00', '2', '1125', '356', '32', '7'], ['27866278', 'Hoxton / Haggerston Apartment', '28822248', 'Caite', '2015-03-05', '51.53629', '-0.0751', 'Entire apartment', 'Entire home/apt', '2', '', '1.0', '1.0', '$95.00', '2', '1125', '34', '14', '1'], ['40885187', 'Stylish 2-Bed Garden Apartment, 1 min from Tube!', '27572615', 'Emily', '2015-02-11', '51.49086', '-0.19211', 'Entire apartment', 'Entire home/apt', '4', '', '2.0', '2.0', '$297.00', '3', '1125', '0', '1', '169'], ['28394803', 'The Garden Studios, London SW13 - Sleeps 6.', '148114998', 'Lurdes', '2017-08-28', '51.47749', '-0.24351', 'Private room in guesthouse', 'Private room', '6', '', '3.0', '4.0', '$170.00', '3', '90', '338', '8', '2'], ['8680525', 'Spacious flat nearby river & park', '43582898', 'Julianne', '2015-09-07', '51.48067', '-0.09683', 'Private room in apartment', 'Private room', '2', '', '1.0', '1.0', '$55.00', '2', '1125', '0', '1', '1'], ['13433229', 'Separate annex in lovely area close to Wimbledon', '28695363', 'Vincent', '2015-03-03', '51.39508', '-0.21914', 'Entire guest suite', 'Entire home/apt', '2', '', '', '1.0', '$59.00', '2', '7', '172', '115', '1'], ['37215315', 'Avni Kensington Hotel', '280178840', 'Thelma', '2019-07-28', '51.49521', '-0.14072', 'Entire house', 'Entire home/apt', '2', '', '1.0', '1.0', '$430.00', '1', '1125', '365', '0', '1'], ['39432597', '3 Bed, 20 min to Liverpool st, EAST LONDON', '302880841', 'Dean', '2019-10-17', '51.55014', '0.01832', 'Entire house', 'Entire home/apt', '7', '', '3.0', '5.0', '$110.00', '3', '1125', '0', '2', '1'], ['42843489', 'Deluxe Double Room in OYO The Greenland Hotel', '337666693', 'OYO The Greenland Hotel', '2020-02-20', '51.4787', '0.02016', 'Room in boutique hotel', 'Private room', '2', '', '1.0', '1.0', '$504.00', '1', '1125', '336', '0', '3'], ['42337868', 'Trendy 3BR Family Garden Home in Dalston - up to 5 guests!', '6703533', 'Jessica', '2013-06-02', '51.55408', '-0.07767', 'Entire house', 'Entire home/apt', '5', '', '3.0', '3.0', '$175.00', '3', '1125', '0', '1', '1'], ['25451074', 'Private room in East London', '104508239', 'Agata', '2016-11-20', '51.54781', '-0.06857', 'Private room in apartment', 'Private room', '1', '', '1.0', '1.0', '$26.00', '1', '1125', '0', '1', '1'], ['39817130', 'Cosy 1 Bedroom Apt, 8 mins to Aldgate East Station', '96569915', 'Tee & Jay', '2016-09-24', '51.51466', '-0.06433', 'Entire apartment', 'Entire home/apt', '6', '', '1.0', '3.0', '$85.00', '2', '90', '0', '19', '9'], ['41950973', 'Supreme Triple Studio in the heart of Baker Street', '178407503', 'Nox Hotels', '2018-03-14', '51.52378', '-0.1604', 'Private room in serviced apartment', 'Private room', '3', '', '2.0', '2.0', '$156.71', '1', '1125', '2', '0', '5'], ['42513545', 'Spacious room in a cosy home', '338565890', 'Dila', '2020-02-24', '51.58043', '-0.04007', 'Private room in house', 'Private room', '2', '', '1.0', '2.0', '$26.00', '1', '20', '85', '2', '1'], ['27026005', 'Cozy single room in Stockwell', '188332446', 'Mario And Elena', '2018-05-07', '51.47356', '-0.12536', 'Private room in apartment', 'Private room', '1', '', '1.0', '0.0', '$37.00', '2', '1125', '91', '64', '4'], ['1114488', 'Flat in Islington, Central London', '6116528', 'Richard', '2013-04-27', '51.5489', '-0.10863', 'Entire apartment', 'Entire home/apt', '2', '', '1.0', '1.0', '$55.00', '28', '1125', '75', '4', '1'], ['32253983', 'Studio Two ArtHouse London Bridge', '241166714', 'Michael', '2019-02-05', '51.50297', '-0.08542999999999999', 'Private room in townhouse', 'Private room', '4', '', '2.0', '2.0', '$102.00', '3', '1125', '327', '31', '2'], ['39911815', 'Luxurious 4-Bed House in Fulham with Terrace', '27572615', 'Emily', '2015-02-11', '51.4776', '-0.19178', 'Entire house', 'Entire home/apt', '10', '', '4.0', '4.0', '$798.00', '5', '1125', '122', '0', '169'], ['39225196', 'Room 1, Kenmare, New Road Rainham, RM13 9PN', '300916979', 'Jude', '2019-10-08', '51.51981', '0.2053', 'Private room in house', 'Private room', '2', '', '1.0', '1.0', '$60.00', '1', '15', '89', '0', '2'], ['18789292', 'Light and spacious 2bed 1 bath flat!', '39496502', 'Frances', '2015-07-25', '51.47302', '-0.12635', 'Entire apartment', 'Entire home/apt', '4', '', '2.0', '2.0', '$120.00', '2', '1125', '0', '7', '1'], ['13289226', 'I love Peckham', '7851320', 'Tanya', '2013-07-31', '51.472', '-0.07514', 'Entire apartment', 'Entire home/apt', '2', '', '1.0', '1.0', '$120.00', '7', '1125', '33', '2', '1'], ['29502574', 'Spacious room in beautiful flat. East London!', '28936999', 'Anisa', '2015-03-07', '51.53121', '-0.05731', 'Private room in apartment', 'Private room', '1', '', '1.0', '1.0', '$50.00', '2', '90', '329', '38', '1'], ['20893587', 'Peaceful with stylish private bathroom VH', '68561737', 'Veronica', '2016-04-23', '51.4367', '-0.16719', 'Private room in house', 'Private room', '2', '', '1.0', '1.0', '$40.00', '3', '14', '168', '95', '1'], ['23523880', '3 Bedroom family home in West Dulwich', '17931388', 'Allan', '2014-07-10', '51.43119', '-0.08983', 'Entire house', 'Entire home/apt', '9', '', '3.0', '4.0', '$98.00', '3', '30', '178', '0', '1'], ['10880757', 'Chelsea/Fulham stylish 3Bed Terrace', '56374442', 'Christian', '2016-01-27', '51.47139', '-0.18524', 'Entire apartment', 'Entire home/apt', '6', '', '3.0', '3.0', '$185.00', '3', '1125', '0', '22', '2'], ['44069559', 'Short let spacious double room in East London', '97529920', 'Chiara', '2016-10-01', '51.55423', '-0.07896', 'Private room in condominium', 'Private room', '1', '', '1.0', '0.0', '$25.00', '30', '45', '5', '0', '1'], ['34556153', 'Lovely double bedroom in modern house', '27397891', 'Erika', '2015-02-08', '51.48087', '-0.33142', 'Private room in house', 'Private room', '2', '', '1.0', '1.0', '$45.00', '2', '30', '179', '16', '2'], ['15307633', 'Farmhouse close to London in beautiful grounds', '97494946', 'Katie', '2016-10-01', '51.44118', '0.15287', 'Entire house', 'Entire home/apt', '7', '', '4.0', '6.0', '$250.00', '2', '1125', '169', '16', '1'], ['12263797', 'Pretty one bedroom cottage in leafy london suburb', '66047258', 'Anne', '2016-04-06', '51.41899', '-0.04507', 'Entire guest suite', 'Entire home/apt', '2', '', '1.0', '1.0', '$58.00', '7', '1125', '305', '33', '1'], ['32347496', 'Beautiful Large Clean Quiet En-suit Double Room!', '131528337', 'Njabulo', '2017-05-22', '51.58425', '-0.17264000000000002', 'Private room in apartment', 'Private room', '2', '', '1.0', '1.0', '$45.00', '1', '30', '365', '27', '3'], ['668819', 'Single Room to let in Clean House', '3381734', 'Jane', '2012-08-26', '51.55851', '-0.00967', 'Private room in townhouse', 'Private room', '1', '', '1.0', '1.0', '$19.00', '1', '180', '318', '126', '2'], ['29896303', 'Clean Cosy Loft (private parking & tube)', '107260536', 'Marlon', '2016-12-14', '51.41674', '-0.17246', 'Private room in house', 'Private room', '3', '', '1.0', '1.0', '$49.00', '1', '9', '55', '61', '2'], ['13663264', '3bedroom Family Home minutes from Kensington Tube', '37056489', 'Will', '2015-06-29', '51.49228', '-0.20883', 'Entire apartment', 'Entire home/apt', '6', '', '3.0', '4.0', '$221.00', '3', '1125', '338', '153', '14'], ['40657332', 'Professionally cleaned 1 bed west London apt seconds from Fulham Broadway', '258580205', 'Sverrir & Vesta', '2019-04-28', '51.48087', '-0.1967', 'Entire apartment', 'Entire home/apt', '3', '', '1.0', '1.0', '$104.00', '2', '1125', '0', '1', '50'], ['29230752', 'Double room in modern chic apartment, Dalston E8', '1951049', 'Claudia', '2012-03-18', '51.54222', '-0.0703', 'Private room in apartment', 'Private room', '2', '', '1.0', '1.0', '$65.00', '1', '1125', '364', '5', '2'], ['32842985', 'Modern & Bright Entire Flat 2 Rooms Old Street', '49413779', 'Olivia', '2015-11-19', '51.53159', '-0.08668', 'Entire apartment', 'Entire home/apt', '4', '', '2.0', '2.0', '$95.00', '5', '1125', '0', '13', '1'], ['1043759', 'Room in Central London Paddington', '5747106', 'Salwa', '2013-04-03', '51.52146', '-0.18633', 'Private room in apartment', 'Private room', '2', '', '1.0', '2.0', '$70.00', '90', '1125', '365', '185', '3'], ['22987867', 'NEW HOME OR HOLIDAY IN LONDON - long or short term', '168407586', 'Genna', '2018-01-17', '51.47473', '-0.06875', 'Private room in house', 'Private room', '2', '', '1.0', '1.0', '$30.00', '1', '365', '270', '1', '1'], ['11707553', 'Room and bathroom close to central', '20351987', 'Lu', '2014-08-21', '51.42829', '-0.15175', 'Private room in apartment', 'Private room', '2', '', '1.0', '1.0', '$38.00', '2', '7', '0', '3', '1'], ['20238937', 'Lovely Room in Best Location', '94603761', 'Moritz', '2016-09-11', '51.52749', '-0.11687', 'Private room in apartment', 'Private room', '1', '', '1.0', '1.0', '$35.00', '6', '1125', '0', '0', '2'], ['42106572', 'Luxury Apartment Canary Wharf', '297690387', 'Flexystays', '2019-09-24', '51.51376', '-0.02139', 'Entire apartment', 'Entire home/apt', '4', '', '2.0', '2.0', '$165.00', '2', '1125', '170', '5', '51'], ['31814561', 'Studio 9-Camden Style- Twin beds or Superking!', '30629100', 'Gary', '2015-04-05', '51.38298', '-0.08001', 'Entire apartment', 'Entire home/apt', '2', '', '', '3.0', '$46.71', '4', '365', '298', '58', '12'], ['12195983', 'Large Knightsbridge 2Bed 2Bath Free WiFi', '31066062', 'Robert', '2015-04-12', '51.49425', '-0.16382', 'Entire apartment', 'Entire home/apt', '5', '', '2.0', '2.0', '$515.00', '3', '1124', '0', '13', '42'], ['41276640', 'Great Location of my flat 15mn from central london', '324177252', 'Rhita', '2020-01-04', '51.55201', '-0.11021', 'Private room in apartment', 'Private room', '2', '', '2.0', '3.0', '$55.00', '3', '10', '83', '0', '1'], ['19036976', 'Luxury Room in a Great Location.', '132853716', 'Joey', '2017-05-31', '51.552', '-0.18813', 'Private room in apartment', 'Private room', '2', '', '1.0', '2.0', '$47.00', '3', '93', '364', '50', '2'], ['19246652', 'Southfields Home', '4037050', 'Ben', '2012-11-01', '51.4514', '-0.2021', 'Entire apartment', 'Entire home/apt', '5', '', '2.0', '3.0', '$85.00', '6', '20', '0', '3', '1'], ['41665916', '4 Bedroom family house in Ilford East London', '92973657', 'Biodun', '2016-09-01', '51.5492', '0.08101', 'Entire house', 'Entire home/apt', '7', '', '4.0', '4.0', '$150.00', '3', '14', '0', '5', '1'], ['29752790', 'Comfy 1Bedroom Apartment in the heart of London', '201263915', 'Claire', '2018-07-10', '51.51461', '-0.12717', 'Entire apartment', 'Entire home/apt', '2', '', '1.0', '1.0', '$65.00', '2', '28', '0', '8', '1'], ['38222036', 'Luxury 2 bed 2 minutes from station', '204530689', 'Tan', '2018-07-23', '51.51704', '-0.07182999999999999', 'Entire apartment', 'Entire home/apt', '4', '', '2.0', '2.0', '$170.00', '7', '1125', '0', '1', '1'], ['37427933', 'Private room in Dalston sleeps 3', '82448401', 'Maureen', '2016-07-08', '51.55341', '-0.06899', 'Private room in house', 'Private room', '3', '', '1.0', '2.0', '$16.00', '1', '28', '252', '25', '3'], ['20916454', 'Delightful Private Bedroom, 2 mins to Tube', '150322962', 'Diyala', '2017-09-12', '51.49003', '-0.19176', 'Private room in apartment', 'Private room', '2', '', '1.0', '1.0', '$45.00', '1', '14', '363', '23', '1'], ['29273072', 'Ensuite room (privat)  30 min to Central London', '220537638', 'Marita', '2018-10-14', '51.48769', '0.11406', 'Private room in house', 'Private room', '2', '', '1.0', '1.0', '$25.00', '1', '180', '0', '27', '1'], ['8948392', 'Flat in a new building, canal views', '2153966', 'Michael', '2012-04-16', '51.53855', '-0.07819', 'Entire apartment', 'Entire home/apt', '4', '', '1.0', '2.0', '$99.00', '4', '30', '268', '3', '1'], ['38322409', 'Close 2 Royal Arsenal, Thames Clipper City Airport', '81937925', 'Neil', '2016-07-05', '51.49341', '0.0818', 'Private room in house', 'Private room', '1', '', '1.0', '1.0', '$25.00', '1', '1125', '0', '2', '2'], ['24146292', 'Large Double in a 2-bed garden flat in Ally Pally', '5047300', 'Kat', '2013-02-11', '51.59852', '-0.12318', 'Private room in apartment', 'Private room', '2', '', '1.0', '1.0', '$50.00', '1', '1125', '80', '1', '1'], ['21996251', 'Cosy room in very good location', '58077301', 'Sylwia', '2016-02-09', '51.55031', '0.00373', 'Private room in house', 'Private room', '1', '', '1.0', '1.0', '$17.00', '4', '12', '0', '0', '1'], ['22681593', 'Charming house with garden in the heart of Peckham', '11875492', 'Anna Rose', '2014-02-02', '51.46763', '-0.07021000000000001', 'Entire townhouse', 'Entire home/apt', '2', '', '1.0', '1.0', '$95.00', '5', '30', '0', '28', '1'], ['33923856', 'King-size bed in stylish,  peaceful artist’s flat', '2594564', 'Adit', '2012-06-10', '51.61141', '-0.12465', 'Private room in apartment', 'Private room', '2', '', '1.0', '1.0', '$50.00', '2', '30', '90', '0', '1'], ['18734228', 'Top floor 1 bed apartment with spectacular views', '5065286', 'Dom', '2013-02-12', '51.48843', '-0.21288', 'Entire apartment', 'Entire home/apt', '2', '', '1.0', '1.0', '$105.00', '3', '1125', '0', '2', '1'], ['41376268', '(8DH) Dreams Unlimited - Hounslow/Heathrow', '142206238', 'Rajesh', '2017-07-24', '51.47631', '-0.34523000000000004', 'Entire apartment', 'Entire home/apt', '6', '', '2.0', '2.0', '$142.00', '1', '1125', '365', '1', '4'], ['34560337', 'Portobello Mews House for 8 guests+free parking', '47237234', 'Marcus', '2015-10-23', '51.51818', '-0.20678', 'Entire house', 'Entire home/apt', '8', '', '4.0', '4.0', '$263.00', '2', '31', '52', '13', '1'], ['40373464', 'Modern, Small Double Private Room', '139052118', 'Leon', '2017-07-07', '51.46497', '-0.17807', 'Private room in apartment', 'Private room', '1', '', '1.0', '1.0', '$38.00', '1', '1125', '0', '4', '6']]\n"
          ]
        }
      ]
    },
    {
      "cell_type": "code",
      "metadata": {
        "id": "jo_egZGi1CFQ"
      },
      "source": [
        "def to_dol(lol):\n",
        "    \"\"\"\n",
        "    Converts a list-of-lists (LoL) to a dict-of-lists (dol)\n",
        "    using the first element in the LoL to create column names.\n",
        "    \n",
        "    :param lol: a list-of-lists where each element of the list represents a row of data\n",
        "    :returns: a dict-of-lists\n",
        "    \"\"\"\n",
        "    # Create empty dict-of-lists\n",
        "    ds = {}\n",
        "\n",
        "    # I had a version of this code that used\n",
        "    # lol.pop(0) since it made the for loop\n",
        "    # easier to read. But I changed my mind...\n",
        "    #\n",
        "    # Can you think why?\n",
        "    col_names = lol[0]           # the first row in the list of lists, which contains the column names i.e. = ['id', 'name', 'host_id', 'host_name'... ]\n",
        "    # Write the code to create the keys and empty lists (HINT: for loop)\n",
        "    for c in col_names:\n",
        "        ds[c] = []        #for each item in col_names, create an empty list e.g. ds['id'] = []\n",
        "                                                                              #  ds['name'] = []\n",
        "\n",
        "\n",
        "    # Then values into a list attached to each key\n",
        "    # and write the code to append values to each list\n",
        "    for row in lol[1:]:                               # for each of the items in the list lol (apart from the first item) i.e. second item has data for the first property, 3rd for the 2nd property etc \n",
        "       for c in range(0,len(col_names)):             # do the following for the number of column names there are:\n",
        "            ds[ col_names[c] ].append( row[c] )      \n",
        "                                                      # one by one adds all the first items in the 2nd list to last list in LoL to the ds['id'], one by one adds all the secon items in the 2nd list to last list in LoL to the ds['name']\n",
        "                                                      # ds[ col_names[0] ].append( #1st_list_in_lol[0] ) -> ds['id'].append( '25339003' )\n",
        "                                                      # ds[ col_names[1] ].append( #1st_list_in_lol[1] ) -> ds['name'].append( 'An Amazing 4Bedroom Home, Central London, Sleeps12' )\n",
        "                                                      # ds[ col_names[2] ].append( #1st_list_in_lol[2] ) -> ds['host_id'].append( '191329110' )\n",
        "                                                      # .\n",
        "                                                      # .\n",
        "                                                      # .\n",
        "                                                      # ds[ col_names[0] ].append( #2nd_list_in_lol[0] ) -> ds['id'].append( '40259218' )\n",
        "                                                      # ds[ col_names[1] ].append( #2nd_list_in_lol[1] ) -> ds['name'].append( 'Large Double Room - Maida Vale' )\n",
        "                                                      # ds[ col_names[2] ].append( #2nd_list_in_lol[2] ) -> ds['host_id'].append( '302720259' )\n",
        "                                                      #etc till its made:\n",
        "                                                     \n",
        "                                   # i dont really get how its making a DoL rather than LoL but i think you can use .append() to add values to the keys for a dictionary, so somehow its doing that       \n",
        "            \n",
        "    return ds\n",
        "\n",
        "ds = to_dol(clol)"
      ],
      "execution_count": 8,
      "outputs": []
    },
    {
      "cell_type": "code",
      "metadata": {
        "id": "CN8XYLSL1CFQ",
        "colab": {
          "base_uri": "https://localhost:8080/"
        },
        "outputId": "138abefa-6b4e-4730-9e84-c61e478f2c1a"
      },
      "source": [
        "print(\", \".join(ds.keys()))     # join the keys iin the dictionary ds separated by ,\n",
        "print(ds['id'][:2])\n",
        "print(ds['name'][:2])\n",
        "print(ds['room_type'][:2])"
      ],
      "execution_count": 9,
      "outputs": [
        {
          "output_type": "stream",
          "name": "stdout",
          "text": [
            "id, name, host_id, host_name, host_since, latitude, longitude, property_type, room_type, accommodates, bathrooms, bedrooms, beds, price, minimum_nights, maximum_nights, availability_365, number_of_reviews, calculated_host_listings_count\n",
            "['25339003', '40259218']\n",
            "['An Amazing 4Bedroom Home, Central London, Sleeps12', 'Large Double Room - Maida Vale']\n",
            "['Entire home/apt', 'Private room']\n"
          ]
        }
      ]
    },
    {
      "cell_type": "markdown",
      "metadata": {
        "id": "WIzr-yWl1CFQ"
      },
      "source": [
        "The answer should look like:\n",
        "```\n",
        "id, name, host_id, host_name, host_since, latitude, longitude, property_type, room_type, accommodates, bathrooms, bedrooms, beds, price, minimum_nights, maximum_nights, availability_365, number_of_reviews, calculated_host_listings_count\n",
        "['25339003', '40259218']\n",
        "['An Amazing 4Bedroom Home, Central London, Sleeps12', 'Large Double Room - Maida Vale']\n",
        "['Entire home/apt', 'Private room']\n",
        "```"
      ]
    },
    {
      "cell_type": "markdown",
      "metadata": {
        "id": "0SKojL0l1CFQ"
      },
      "source": [
        "#### Task 1.7: Convert Data Types on DoL\n",
        "\n",
        " You'll need to investigate the columns yourself in order to see what the appropraite values should be. I would suggest taking the _full_ version of the function where we check what `cdata` is so that we have one function that works for both strings and lists.\n",
        "\n",
        "Just to help get you started, here are the column names and you can create a `dtype` list to hold the _data type_ for each column."
      ]
    },
    {
      "cell_type": "code",
      "metadata": {
        "colab": {
          "base_uri": "https://localhost:8080/"
        },
        "id": "cmPvCE-x1CFQ",
        "outputId": "ccd4ec1d-8b0d-4ee2-9bd5-6b02c5d5c448"
      },
      "source": [
        "cols  = ['id', 'name', 'host_id', 'host_name', \n",
        "        'host_since', 'latitude', 'longitude', 'property_type', \n",
        "        'room_type', 'accommodates', 'bathrooms', 'bedrooms', 'beds', \n",
        "        'price', 'minimum_nights', 'maximum_nights', \n",
        "        'availability_60', 'availability_90', 'availability_365', 'number_of_reviews', \n",
        "         'calculated_host_listings_count']\n",
        "dtype = [int, str, int, str, \n",
        "         str, float, float, str, \n",
        "         str, int, bool, float, float, \n",
        "         str, int, int, int, int, float]\n",
        "\n",
        "# 'Zips up' these two lists into an iterator list of tuples!\n",
        "# Note than you cannot save the output of zip directly because\n",
        "# you can only iterate through it once.\n",
        "for d in zip(cols, dtype):                  #zips the above lists into a list, the first item in the list being ['id',int] for example\n",
        "    # Notice the more advanced formatting here:\n",
        "    # - `>20` means right-align with up to 20 characters of whitespace; notice the last line!\n",
        "    # - `d[1].__name__` gives us the name of the data type, rather than a '<class...>' output.\n",
        "    print(f\"Column ({d[0]:>20}) is type: {d[1].__name__}\")"
      ],
      "execution_count": 10,
      "outputs": [
        {
          "output_type": "stream",
          "name": "stdout",
          "text": [
            "Column (                  id) is type: int\n",
            "Column (                name) is type: str\n",
            "Column (             host_id) is type: int\n",
            "Column (           host_name) is type: str\n",
            "Column (          host_since) is type: str\n",
            "Column (            latitude) is type: float\n",
            "Column (           longitude) is type: float\n",
            "Column (       property_type) is type: str\n",
            "Column (           room_type) is type: str\n",
            "Column (        accommodates) is type: int\n",
            "Column (           bathrooms) is type: bool\n",
            "Column (            bedrooms) is type: float\n",
            "Column (                beds) is type: float\n",
            "Column (               price) is type: str\n",
            "Column (      minimum_nights) is type: int\n",
            "Column (      maximum_nights) is type: int\n",
            "Column (     availability_60) is type: int\n",
            "Column (     availability_90) is type: int\n",
            "Column (    availability_365) is type: float\n"
          ]
        }
      ]
    },
    {
      "cell_type": "markdown",
      "metadata": {
        "id": "ZhF-k5qq1CFQ"
      },
      "source": [
        "Make sure tha tyou understand how this works:"
      ]
    },
    {
      "cell_type": "code",
      "metadata": {
        "colab": {
          "base_uri": "https://localhost:8080/"
        },
        "id": "Je95cP3mzQVm",
        "outputId": "984462a1-f306-4263-858d-e9eaa2eb32ef"
      },
      "source": [
        "print(ds['id'])"
      ],
      "execution_count": 11,
      "outputs": [
        {
          "output_type": "stream",
          "name": "stdout",
          "text": [
            "['25339003', '40259218', '20097666', '40868766', '29649371', '6650370', '42405264', '13501585', '36162322', '20631005', '32175015', '38406649', '21315952', '16361918', '39556787', '26542484', '21744434', '4059945', '5345295', '44257873', '15768207', '1683278', '24386203', '39349912', '29726372', '34713135', '424511', '2465026', '4743124', '25134847', '39437321', '35825237', '1474317', '28652501', '6868537', '726669', '20821143', '10408740', '14309812', '27866278', '40885187', '28394803', '8680525', '13433229', '37215315', '39432597', '42843489', '42337868', '25451074', '39817130', '41950973', '42513545', '27026005', '1114488', '32253983', '39911815', '39225196', '18789292', '13289226', '29502574', '20893587', '23523880', '10880757', '44069559', '34556153', '15307633', '12263797', '32347496', '668819', '29896303', '13663264', '40657332', '29230752', '32842985', '1043759', '22987867', '11707553', '20238937', '42106572', '31814561', '12195983', '41276640', '19036976', '19246652', '41665916', '29752790', '38222036', '37427933', '20916454', '29273072', '8948392', '38322409', '24146292', '21996251', '22681593', '33923856', '18734228', '41376268', '34560337', '40373464']\n"
          ]
        }
      ]
    },
    {
      "cell_type": "code",
      "metadata": {
        "id": "ksiPHlCK1CFQ"
      },
      "source": [
        "# Convert the raw data to data of the appropriate\n",
        "# type: 'column data' (cdata) -> 'column type' (ctype)\n",
        "# see next code section to see what cdata is set as - cdata set as ds['id'] then ds['name'] etc and ctype is int, str, int, str, str etc\n",
        "def to_type(cdata, ctype):\n",
        "    # If a string\n",
        "    if isinstance(cdata, str):              # returns 'true' if cdata is a string\n",
        "        try:\n",
        "            if ctype==bool:\n",
        "                return cdata==True\n",
        "            else:\n",
        "                return ctype(cdata)\n",
        "        except TypeError:\n",
        "            return cdata\n",
        "    \n",
        "    # Not a string (assume list)\n",
        "    else: \n",
        "        fdata = []\n",
        "        for c in cdata:\n",
        "            try:\n",
        "                if ctype==bool:\n",
        "                    fdata.append( c=='True' )\n",
        "                else:\n",
        "                    fdata.append( ctype(c) )\n",
        "            except:\n",
        "                fdata.append( c )\n",
        "        return fdata\n"
      ],
      "execution_count": 12,
      "outputs": []
    },
    {
      "cell_type": "code",
      "metadata": {
        "id": "H6jEIMqI1CFQ",
        "colab": {
          "base_uri": "https://localhost:8080/",
          "height": 215
        },
        "outputId": "12f1205a-bfe5-4274-d79c-5876ff2822b7"
      },
      "source": [
        "# Now apply this! We'll copy the data to \n",
        "# new data structure only so that we know\n",
        "# we're not overwriting `ds` until we're sure\n",
        "# that the code works.\n",
        "ds2 = {}\n",
        "for d in zip(cols, dtype):\n",
        "    ds2[ d[0] ] = to_type(ds[d[0]], d[1])         # ds2[ #firstitemincodeafter1.7 [0] ] =                   -> ds2['id'] = to_type(ds['id'], int)   where ds['id'] is the value (list) for key 'id' in our DoL"
      ],
      "execution_count": 13,
      "outputs": [
        {
          "output_type": "error",
          "ename": "KeyError",
          "evalue": "ignored",
          "traceback": [
            "\u001b[0;31m---------------------------------------------------------------------------\u001b[0m",
            "\u001b[0;31mKeyError\u001b[0m                                  Traceback (most recent call last)",
            "\u001b[0;32m<ipython-input-13-da24dd7de092>\u001b[0m in \u001b[0;36m<module>\u001b[0;34m()\u001b[0m\n\u001b[1;32m      5\u001b[0m \u001b[0mds2\u001b[0m \u001b[0;34m=\u001b[0m \u001b[0;34m{\u001b[0m\u001b[0;34m}\u001b[0m\u001b[0;34m\u001b[0m\u001b[0;34m\u001b[0m\u001b[0m\n\u001b[1;32m      6\u001b[0m \u001b[0;32mfor\u001b[0m \u001b[0md\u001b[0m \u001b[0;32min\u001b[0m \u001b[0mzip\u001b[0m\u001b[0;34m(\u001b[0m\u001b[0mcols\u001b[0m\u001b[0;34m,\u001b[0m \u001b[0mdtype\u001b[0m\u001b[0;34m)\u001b[0m\u001b[0;34m:\u001b[0m\u001b[0;34m\u001b[0m\u001b[0;34m\u001b[0m\u001b[0m\n\u001b[0;32m----> 7\u001b[0;31m     \u001b[0mds2\u001b[0m\u001b[0;34m[\u001b[0m \u001b[0md\u001b[0m\u001b[0;34m[\u001b[0m\u001b[0;36m0\u001b[0m\u001b[0;34m]\u001b[0m \u001b[0;34m]\u001b[0m \u001b[0;34m=\u001b[0m \u001b[0mto_type\u001b[0m\u001b[0;34m(\u001b[0m\u001b[0mds\u001b[0m\u001b[0;34m[\u001b[0m\u001b[0md\u001b[0m\u001b[0;34m[\u001b[0m\u001b[0;36m0\u001b[0m\u001b[0;34m]\u001b[0m\u001b[0;34m]\u001b[0m\u001b[0;34m,\u001b[0m \u001b[0md\u001b[0m\u001b[0;34m[\u001b[0m\u001b[0;36m1\u001b[0m\u001b[0;34m]\u001b[0m\u001b[0;34m)\u001b[0m         \u001b[0;31m# ds2[ #firstitemincodeafter1.7 [0] ] =                   -> ds2['id'] = to_type(ds['id'], int)   where ds['id'] is the value (list) for key 'id' in our DoL\u001b[0m\u001b[0;34m\u001b[0m\u001b[0;34m\u001b[0m\u001b[0m\n\u001b[0m",
            "\u001b[0;31mKeyError\u001b[0m: 'availability_60'"
          ]
        }
      ]
    },
    {
      "cell_type": "code",
      "metadata": {
        "id": "L8mVatz41CFR"
      },
      "source": [
        "print(ds2['id'][:3])\n",
        "print(ds2['host_name'][:3])\n",
        "print(ds2['beds'][:3])\n",
        "print(ds2['availability_365'][:3])\n"
      ],
      "execution_count": null,
      "outputs": []
    },
    {
      "cell_type": "markdown",
      "metadata": {
        "id": "2BLJG5se1CFR"
      },
      "source": [
        "You should get the followg:\n",
        "```\n",
        "[25339003, 40259218, 20097666]\n",
        "['Emily', 'Mantas', 'Thanyawan']\n",
        "[9.0, 1.0, 1.0]\n",
        "[23, 365, 0]\n",
        "['2020-03-01', '2020-02-08', '']\n",
        "```"
      ]
    },
    {
      "cell_type": "markdown",
      "metadata": {
        "id": "UgPz-oaS1CFR"
      },
      "source": [
        "#### Task 1.8: Checking Basic Functionality\n",
        "\n",
        "Let's see if our new data structure broadly works by testing out some of our previous operations:"
      ]
    },
    {
      "cell_type": "code",
      "metadata": {
        "id": "D_qEkIXH1CFR"
      },
      "source": [
        "import numpy as np # We'll need this"
      ],
      "execution_count": null,
      "outputs": []
    },
    {
      "cell_type": "code",
      "metadata": {
        "id": "OYlyfPG61CFR"
      },
      "source": [
        "print(f\"Average availability over 365 days is {np.mean(ds2['availability_365'])}\")\n",
        "print(f\"Standard deviation on minimum nights is {np.std(ds2['minimum_nights'])}\")\n",
        "print(f\"Median maximum nights is {np.median(ds2['maximum_nights'])}\")"
      ],
      "execution_count": null,
      "outputs": []
    },
    {
      "cell_type": "markdown",
      "metadata": {
        "id": "d9xCKOjx1CFR"
      },
      "source": [
        "But..."
      ]
    },
    {
      "cell_type": "code",
      "metadata": {
        "id": "cyTcuVM01CFR"
      },
      "source": [
        "print(f\"Median price per night is {np.median(ds2['price'])}\")"
      ],
      "execution_count": null,
      "outputs": []
    },
    {
      "cell_type": "markdown",
      "metadata": {
        "id": "IT7jes361CFR"
      },
      "source": [
        "Why is this happening? Write some code below to check:"
      ]
    },
    {
      "cell_type": "code",
      "metadata": {
        "id": "SIWibMu11CFR"
      },
      "source": [
        "ds2['price'][:3]"
      ],
      "execution_count": null,
      "outputs": []
    },
    {
      "cell_type": "markdown",
      "metadata": {
        "id": "wxLBbII61CFR"
      },
      "source": [
        "#### Task 1.9: Putting It All Together\n",
        "\n",
        "Here's a clue for how to solve the 'price' data problem; you will need to combine it with something we've seen earlier that allows you to iterate over a list and apply the solution to every `x` in the 'price' column. If you are nearing the end of the 2-hour practical, then may skip this task for now and work on converting the functions to a package (next task below)."
      ]
    },
    {
      "cell_type": "code",
      "metadata": {
        "id": "L50DnvkV1CFR"
      },
      "source": [
        "float(ds2[??][0].replace('$',''))"
      ],
      "execution_count": null,
      "outputs": []
    },
    {
      "cell_type": "markdown",
      "metadata": {
        "id": "-2kIdoG91CFR"
      },
      "source": [
        "## Task 2. Creating a Package from Functions\n",
        "\n",
        "Using or adapting as necessary the approach that we saw in the Live Coding session (Task 2 from Part 1) create a package called `dtools` by exporting the functions you've created above (only the final version of each, so don't export the one form Task 1.3 for instance) into a file called `__init__.py` that sits in the `dtools` directory."
      ]
    },
    {
      "cell_type": "code",
      "metadata": {
        "id": "PwDS-IUI1CFS"
      },
      "source": [
        "!mkdir -p ??"
      ],
      "execution_count": null,
      "outputs": []
    },
    {
      "cell_type": "code",
      "metadata": {
        "id": "W9PO0En_1CFS"
      },
      "source": [
        "!jupyter nbconvert --ClearOutputPreprocessor.enabled=True \\\n",
        "    --to python --output=?? \\\n",
        "    ??"
      ],
      "execution_count": null,
      "outputs": []
    },
    {
      "cell_type": "markdown",
      "metadata": {
        "id": "VtZ28Jwd1CFS"
      },
      "source": [
        "Once you have tidied up the content of `dtools/__init__.py` you should be able to run the code below. You can actually edit the `init` file directly in Jupyter as a text file. You can compare this to the file I've created on GitHub."
      ]
    },
    {
      "cell_type": "code",
      "metadata": {
        "id": "cUL3YHaq1CFS"
      },
      "source": [
        "%load_ext autoreload\n",
        "%autoreload 2"
      ],
      "execution_count": null,
      "outputs": []
    },
    {
      "cell_type": "code",
      "metadata": {
        "id": "bQEQI89d1CFS"
      },
      "source": [
        "import dtools\n",
        "help(to_dol)"
      ],
      "execution_count": null,
      "outputs": []
    },
    {
      "cell_type": "code",
      "metadata": {
        "id": "zhg-g3qf1CFS"
      },
      "source": [
        "url = 'https://github.com/jreades/i2p/raw/master/data/src/2019-sample-Crime.csv'\n",
        "out = os.path.join('data','crime-sample.csv')\n",
        "\n",
        "dlol = dtools.get_url(url, out)\n",
        "dlol = dtools.to_lol(dlol)\n",
        "ddol = dtools.to_dol(dlol)\n",
        "\n",
        "print(len(ddol.keys()))\n",
        "print(len(ddol['ID']))"
      ],
      "execution_count": null,
      "outputs": []
    },
    {
      "cell_type": "code",
      "metadata": {
        "id": "og5oKdAU1CFS"
      },
      "source": [
        "print(ddol.keys())"
      ],
      "execution_count": null,
      "outputs": []
    }
  ]
}