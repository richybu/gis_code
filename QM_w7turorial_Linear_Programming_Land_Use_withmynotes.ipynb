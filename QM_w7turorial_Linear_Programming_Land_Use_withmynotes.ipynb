{
  "nbformat": 4,
  "nbformat_minor": 0,
  "metadata": {
    "kernelspec": {
      "display_name": "Python [conda env:sds2020]",
      "language": "python",
      "name": "conda-env-sds2020-py"
    },
    "language_info": {
      "codemirror_mode": {
        "name": "ipython",
        "version": 3
      },
      "file_extension": ".py",
      "mimetype": "text/x-python",
      "name": "python",
      "nbconvert_exporter": "python",
      "pygments_lexer": "ipython3",
      "version": "3.7.8"
    },
    "toc": {
      "base_numbering": 1,
      "nav_menu": {},
      "number_sections": true,
      "sideBar": true,
      "skip_h1_title": false,
      "title_cell": "Table of Contents",
      "title_sidebar": "Contents",
      "toc_cell": false,
      "toc_position": {},
      "toc_section_display": true,
      "toc_window_display": false
    },
    "colab": {
      "name": "Linear_Programming_Land_Use.ipynb",
      "provenance": [],
      "collapsed_sections": [],
      "include_colab_link": true
    }
  },
  "cells": [
    {
      "cell_type": "markdown",
      "metadata": {
        "id": "view-in-github",
        "colab_type": "text"
      },
      "source": [
        "<a href=\"https://colab.research.google.com/github/richybu/gis_code/blob/main/QM_w7turorial_Linear_Programming_Land_Use_withmynotes.ipynb\" target=\"_parent\"><img src=\"https://colab.research.google.com/assets/colab-badge.svg\" alt=\"Open In Colab\"/></a>"
      ]
    },
    {
      "cell_type": "markdown",
      "metadata": {
        "id": "UDIeQJH-4Jjp"
      },
      "source": [
        "## Linear Programming in Python - Land Use Example"
      ]
    },
    {
      "cell_type": "markdown",
      "metadata": {
        "id": "NDDH1lKr4Jjq"
      },
      "source": [
        "Let's solve the land use transformation problem using Python.\n",
        "\n",
        "The method is the same as for the CASA merchandising problem, so you should look at that example first."
      ]
    },
    {
      "cell_type": "code",
      "metadata": {
        "id": "Y72B84jg4Jjr"
      },
      "source": [
        "import scipy.optimize as spo\n",
        "# The documentation for scipy.optimize.linprog is here:\n",
        "# https://docs.scipy.org/doc/scipy-0.18.1/reference/generated/scipy.optimize.linprog.html"
      ],
      "execution_count": 1,
      "outputs": []
    },
    {
      "cell_type": "markdown",
      "metadata": {
        "id": "qggxoSa44Jjs"
      },
      "source": [
        "#### This is the problem we are trying to solve...\n",
        "\n",
        "![farm_land](https://github.com/huanfachen/Quantitative_Methods_CASA0007/blob/main/images/geograph-2132256-by-Richard-Croft.jpg?raw=true)\n",
        "\n",
        "An area of land is available for reclassification. 8650 ha of the land is forest (F), 3875 is rainfed cropland (R), and 1375 ha is irrigated cropland (I). Land may be reclassified as one of these types or as urban land (U).\n",
        "\n",
        "A budget of 25000 pesetas is available for transforming the land. The costs in pesetas to transform an area of 10 ha are as follows:\n",
        "\n",
        "\n",
        "| From / To |    F |    R |     I |      U |\n",
        "| --------: | ---: | ---: | ----: | -----: |\n",
        "|         F |   NA | 7.20 |  51.2 | 750.00 |\n",
        "|         R | 1.80 |   NA | 16.20 | 625.00 |\n",
        "|         I |   NA |   NA |    NA | 625.00 |\n",
        "\n",
        "Transformations marked with 'NA' are not possible.\n",
        "\n",
        "Not all the existing land is suitable for transformation to all other types.\n",
        "\n",
        "- 21 ha of forest land and 219 ha of rainfed cropland are suitable for tranformation to irrigated cropland.\n",
        "- 369 ha of forest, 882 ha of rainfed cropland and 205 ha of irrigated cropland are suitable for transformation to urban land.\n",
        "\n",
        "Additionally, for environmental reasons, at least 75% of existing forest land must be preserved.\n",
        "\n",
        "The principal objective of the reclassification programme is to create jobs:\n",
        "\n",
        "- 10 ha of forest supports 0.017 jobs;\n",
        "- 10 ha of rainfed cropland supports 0.5 jobs;\n",
        "- 10 ha of irrigated cropland supports 2 jobs;\n",
        "- 10 ha of urban land supports 18 jobs.\n",
        "\n",
        "How should the land be reallocated to maximise employment?\n",
        "\n",
        "(Adapted from Chuvieco, E. (1993), 'Integration of linear programming and GIS for land-use modelling')"
      ]
    },
    {
      "cell_type": "markdown",
      "metadata": {
        "id": "KCXtXh9g4Jjt"
      },
      "source": [
        "#### And here is the problem written as a linear program:\n",
        "\n",
        " -----------\n",
        " my notes.  \n",
        " FF means forest thats kept as forest. FR is forest convertd to rainfed cropland. \n",
        " E is employment. \n",
        "\n",
        " -------------\n",
        "\n",
        "Maximise:  \n",
        "E = 0.017 FF + 0.5 FR + 2 FI + 18 FU + 0.017 RF + 0.5 RR + 2 RI + 18 RU + 2 II + 18 IU\n",
        "\n",
        " UU doesnt exit becasue theres no Urban land to convert to Urban land, land  can only be converted to Urban land. \n",
        "\n",
        "Subject to:  \n",
        "The total land that can be converted to forest is 865 as theres only 8650 ha of forest in existance at the start.   \n",
        "**A)** FF + FR + FI + FU = 865.00  \n",
        "**B)** RF + RR + RI + RU = 387.50  \n",
        "**C)** II + IU = 137.50  \n",
        "369 ha of forest suitable for transformation to urban land.   \n",
        "**D)** FU ≤ 36.90  \n",
        "**E)** RU ≤ 88.20  \n",
        "**F)** IU ≤ 20.50   \n",
        "**G)** FI ≤ 02.10  \n",
        "**H)** RI ≤ 21.90  \n",
        "**I)** FF ≥ 648.75  \n",
        "this next bit refers to the table at the top.  \n",
        "**J)** 7.2 FR +51.2 FI + 750 FU + 1.8 RF + 16.2 RI + 625 RU + 625 IU ≤ 25000  \n",
        "all of the values have to be 0 or greater as you cant have negative land values.  \n",
        "**K)** FF, FR, FI, FU, RF, RR, RI, RU, II, IU ≥ 0\n",
        "\n",
        "Where:  \n",
        "XY = Number of 10 ha units of terrain type X converted to terrain type Y  \n",
        "E = Employment (total jobs supported by all land after transformation)"
      ]
    },
    {
      "cell_type": "code",
      "metadata": {
        "id": "XXT5U92d4Jjt"
      },
      "source": [
        "\n",
        "\n",
        "\n",
        "# First the coefficients of the objective function.\n",
        "# Note the order of the variables in the objective function and coefficients are:\n",
        "# FF, FR, FI, FU, RF, RR, RI, RU, IF, IR, II, IU\n",
        "# This order is not explicitly stated, \n",
        "# Since this is a MAXIMISATION problem, while Python expects a MINIMISATION, the objective coefficients change sign:\n",
        "# this is from the E = equation abouve\n",
        "\n",
        "objective_coeffs = [-0.017, -0.5, -2, -18, -0.017, -0.5, -2, -18, -2, -18].  # put values in as negatives as the function is usually used to find minimum, we want to find maximum\n",
        "\n",
        "# Next the constraints.\n",
        "# We note that many of the constraints (including the non-negativity constraints)...\n",
        "# ... can be covered by setting upper and lower bounds on each variable as follows:\n",
        "# next bit is part D) to I) above\n",
        "FF_bounds = (648.75,None)\n",
        "FR_bounds = (0,None)\n",
        "FI_bounds = (0,2.10)\n",
        "FU_bounds = (0,36.90)\n",
        "RF_bounds = (0,None)\n",
        "RR_bounds = (0,None)\n",
        "RI_bounds = (0,21.90)\n",
        "RU_bounds = (0,88.20)\n",
        "II_bounds = (0,None)\n",
        "IU_bounds = (0,20.50)\n",
        "\n",
        "# It will be handy to collect all these bounds together in a tuple (like a list, but defined with round brackets):\n",
        "\n",
        "all_bounds = (FF_bounds,\n",
        "              FR_bounds,\n",
        "              FI_bounds,\n",
        "              FU_bounds,\n",
        "              RF_bounds,\n",
        "              RR_bounds,\n",
        "              RI_bounds,\n",
        "              RU_bounds,\n",
        "              II_bounds,\n",
        "              IU_bounds)\n",
        "\n",
        "# The only constraints that cannot be dealt with in this way...\n",
        "# ... (since they feature more than one decision variable) are A, B, C and J.\n",
        "\n",
        "# Note also that A, B and C are EQUALITY constraints, rather than INEQUALITY constraints.\n",
        "# These must be dealt with separately.\n",
        "\n",
        "# Here are the coefficients for the equality constraints (A, B, C) and the corresponding constants:\n",
        "\n",
        "eq_constraint_coeffs = [[1,1,1,1,0,0,0,0,0,0],\n",
        "                        [0,0,0,0,1,1,1,1,0,0],\n",
        "                        [0,0,0,0,0,0,0,0,1,1]]\n",
        "eq_constraint_consts = [865,387.5,137.5]\n",
        "\n",
        "# And here are the coefficients for the inequality constraint (J) and the corresponding constant:\n",
        "\n",
        "ineq_constraint_coeffs = [[0,7.2,51.2,750,1.8,0,16.2,625,0,625]]\n",
        "ineq_constraint_consts = [25000]\n",
        "\n",
        "# Note that even though there is only one inequality constraint, these values are still presented in lists.\n",
        "\n",
        "# Make sure everything stays in the right order!"
      ],
      "execution_count": null,
      "outputs": []
    },
    {
      "cell_type": "code",
      "metadata": {
        "id": "iX4xSNZb4Jju",
        "outputId": "d739057c-5b0a-406e-9eea-1eadc35622ca"
      },
      "source": [
        "# Now we perform the optimisation:\n",
        "\n",
        "results = spo.linprog(objective_coeffs, A_eq=eq_constraint_coeffs, b_eq=eq_constraint_consts, A_ub=ineq_constraint_coeffs, b_ub=ineq_constraint_consts, bounds=all_bounds,options={\"disp\": True})\n",
        "\n",
        "# And report the optimal value of each variable:\n",
        "FF,FR,FI,FU,RF,RR,RI,RU,II,IU = results['x']\n",
        "print(\"FF =\", FF)\n",
        "print(\"FR =\", FR)\n",
        "print(\"FI =\", FI)\n",
        "print(\"FU =\", FU)\n",
        "print(\"RF =\", RF)\n",
        "print(\"RR =\", RR)\n",
        "print(\"RI =\", RI)\n",
        "print(\"RU =\", RU)\n",
        "print(\"II =\", II)\n",
        "print(\"IU =\", IU)\n",
        "print()\n",
        "\n",
        "# And the optimal value of the objective function:\n",
        "E = -results['fun']\n",
        "print(\"E =\", E)\n"
      ],
      "execution_count": null,
      "outputs": [
        {
          "name": "stdout",
          "output_type": "stream",
          "text": [
            "Primal Feasibility  Dual Feasibility    Duality Gap         Step             Path Parameter      Objective          \n",
            "1.0                 1.0                 1.0                 -                1.0                 -72.06275           \n",
            "0.1671779194894     0.1671779194894     0.1671779194894     0.8377344156294  0.1671779194894     -117.9687531267     \n",
            "0.02157489805609    0.02157489805609    0.02157489805608    0.9183422109627  0.02157489805609    -514.7074151918     \n",
            "0.003732612219205   0.003732612219205   0.003732612219204   0.8347019077552  0.003732612219205   -1007.039937308     \n",
            "0.0003817839899828  0.0003817839899828  0.0003817839899827  0.9103294229514  0.0003817839899844  -1236.061857436     \n",
            "3.208955794665e-05  3.208955794638e-05  3.208955794636e-05  0.9177694612493  3.208955794646e-05  -1264.906433482     \n",
            "5.170714585681e-07  5.170714592651e-07  5.170714591894e-07  1.0              5.170714598465e-07  -1267.747431067     \n",
            "2.683851716987e-11  2.683869633257e-11  2.683880665064e-11  0.9999480950164  2.683881694451e-11  -1267.786707956     \n",
            "Optimization terminated successfully.\n",
            "         Current function value: -1267.786708\n",
            "         Iterations: 7\n",
            "FF = 648.7500002401501\n",
            "FR = 214.14999952776517\n",
            "FI = 2.099999923952066\n",
            "FU = 2.062300440359331e-08\n",
            "RF = 1.2883402112619954e-07\n",
            "RR = 328.8066875511197\n",
            "RI = 21.8999999102544\n",
            "RU = 36.793311890307386\n",
            "II = 137.4999997719117\n",
            "IU = 4.454224507579934e-08\n",
            "\n",
            "E = 1267.786707956459\n"
          ]
        }
      ]
    },
    {
      "cell_type": "code",
      "metadata": {
        "scrolled": true,
        "id": "kKui-m6e4Jjv",
        "outputId": "de33686a-784c-47e8-815e-47e0b740da7d"
      },
      "source": [
        "# Let's report on our results:\n",
        "print(\"The optimal reclassification plan is to transform:\")\n",
        "print(\"*\", int(round(FR*10,0)), \"ha of forest to rainfed cropland,\", int(round(FI*10,0)), \"ha to irrigated cropland, and\", int(round(FU*10,0)), \"ha to urban land.\")\n",
        "print(\"*\", int(round(RF*10,0)), \"ha of rainfed cropland to forest,\", int(round(RI*10,0)), \"ha to irrigated cropland, and\", int(round(RU*10,0)), \"ha to urban land.\")\n",
        "print(\"*\", int(round(IU*10,0)), \"ha of irrigated cropland to urban land.\")\n",
        "print(\"The land will then support\", int(round(E,0)), \"jobs.\")"
      ],
      "execution_count": null,
      "outputs": [
        {
          "name": "stdout",
          "output_type": "stream",
          "text": [
            "The optimal reclassification plan is to transform:\n",
            "* 2141 ha of forest to rainfed cropland, 21 ha to irrigated cropland, and 0 ha to urban land.\n",
            "* 0 ha of rainfed cropland to forest, 219 ha to irrigated cropland, and 368 ha to urban land.\n",
            "* 0 ha of irrigated cropland to urban land.\n",
            "The land will then support 1268 jobs.\n"
          ]
        }
      ]
    },
    {
      "cell_type": "code",
      "metadata": {
        "scrolled": true,
        "id": "JjcAByJw4Jjw",
        "outputId": "983f8613-6c96-4387-b9a0-68aa8e63deb5"
      },
      "source": [
        "# We can compare this to the current number of jobs supported by the land to see how many jobs could be created:\n",
        "current_jobs = -objective_coeffs[0]*eq_constraint_consts[0] - objective_coeffs[1]*eq_constraint_consts[1] - objective_coeffs[2]*eq_constraint_consts[2]\n",
        "print(\"The land currently supports\", int(round(current_jobs,0)), \"jobs.\")\n",
        "print(\"This means that\", int(round(E,0)-round(current_jobs,0)), \"jobs could be created with this reclassification scheme.\")"
      ],
      "execution_count": null,
      "outputs": [
        {
          "name": "stdout",
          "output_type": "stream",
          "text": [
            "The land currently supports 483 jobs.\n",
            "This means that 785 jobs could be created with this reclassification scheme.\n"
          ]
        }
      ]
    }
  ]
}